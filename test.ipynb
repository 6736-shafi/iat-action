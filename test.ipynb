{
 "cells": [
  {
   "cell_type": "code",
   "execution_count": 1,
   "metadata": {},
   "outputs": [],
   "source": [
    "from azure.identity import AzureCliCredential\n",
    "\n",
    "credential = AzureCliCredential()\n",
    "from azure.ai.ml import MLClient\n",
    "from azure.identity import AzureCliCredential\n",
    "\n",
    "\n",
    "\n",
    "credential = AzureCliCredential()\n",
    "\n",
    "ml_client = MLClient(\n",
    "    credential=credential,\n",
    "    subscription_id=\"6fab868f-e7ff-4000-b366-b5d0a27cc581\",\n",
    "    resource_group_name=\"shafi-iat\",\n",
    "    workspace_name=\"shafi-iat\"\n",
    ")\n"
   ]
  },
  {
   "cell_type": "code",
   "execution_count": 138,
   "metadata": {},
   "outputs": [
    {
     "name": "stdout",
     "output_type": "stream",
     "text": [
      "Model registered: h2o-model, Version: 4\n"
     ]
    }
   ],
   "source": [
    "from azure.ai.ml.entities import Model\n",
    "from azure.ai.ml.constants import AssetTypes\n",
    "model = Model(\n",
    "    path=\"./GBM_model_python_1749296476765_1.zip\",  # Local path to your model\n",
    "    type=AssetTypes.CUSTOM_MODEL,\n",
    "    name=\"h2o-model\",  # Desired model name in Azure ML\n",
    "    description=\"My custom model registered from local file\"\n",
    ")\n",
    "registered_model = ml_client.models.create_or_update(model)\n",
    "print(f\"Model registered: {registered_model.name}, Version: {registered_model.version}\")"
   ]
  },
  {
   "cell_type": "code",
   "execution_count": null,
   "metadata": {},
   "outputs": [
    {
     "name": "stdout",
     "output_type": "stream",
     "text": [
      "\n",
      "All registered versions of 'my_model':\n",
      "  - Version 2: asset ID /subscriptions/6fab868f-e7ff-4000-b366-b5d0a27cc581/resourceGroups/iat/providers/Microsoft.MachineLearningServices/workspaces/shafi4/models/my_model/versions/2\n",
      "  - Version 1: asset ID /subscriptions/6fab868f-e7ff-4000-b366-b5d0a27cc581/resourceGroups/iat/providers/Microsoft.MachineLearningServices/workspaces/shafi4/models/my_model/versions/1\n",
      "\n",
      "✅ Latest version is 2\n"
     ]
    }
   ],
   "source": [
    "# model_name = \"my_model\"\n",
    "\n",
    "# models = list(ml_client.models.list(name=model_name))\n",
    "# print(f\"\\nAll registered versions of '{model_name}':\")\n",
    "# for m in models:\n",
    "#     print(f\"  - Version {m.version}: asset ID {m.id}\")\n",
    "    \n",
    "# latest = max(models, key=lambda x: int(x.version))\n",
    "# print(f\"\\n✅ Latest version is {latest.version}\")"
   ]
  },
  {
   "cell_type": "code",
   "execution_count": 2,
   "metadata": {},
   "outputs": [
    {
     "name": "stdout",
     "output_type": "stream",
     "text": [
      "Looking in links: http://h2o-release.s3.amazonaws.com/h2o/latest_stable_Py.html\n",
      "Requirement already satisfied: h2o in ./iat/lib/python3.12/site-packages (3.46.0.7)\n",
      "Requirement already satisfied: requests in ./iat/lib/python3.12/site-packages (from h2o) (2.32.3)\n",
      "Requirement already satisfied: tabulate in ./iat/lib/python3.12/site-packages (from h2o) (0.9.0)\n",
      "Requirement already satisfied: charset-normalizer<4,>=2 in ./iat/lib/python3.12/site-packages (from requests->h2o) (3.4.2)\n",
      "Requirement already satisfied: idna<4,>=2.5 in ./iat/lib/python3.12/site-packages (from requests->h2o) (3.10)\n",
      "Requirement already satisfied: urllib3<3,>=1.21.1 in ./iat/lib/python3.12/site-packages (from requests->h2o) (2.4.0)\n",
      "Requirement already satisfied: certifi>=2017.4.17 in ./iat/lib/python3.12/site-packages (from requests->h2o) (2025.4.26)\n",
      "\n",
      "\u001b[1m[\u001b[0m\u001b[34;49mnotice\u001b[0m\u001b[1;39;49m]\u001b[0m\u001b[39;49m A new release of pip is available: \u001b[0m\u001b[31;49m24.2\u001b[0m\u001b[39;49m -> \u001b[0m\u001b[32;49m25.1.1\u001b[0m\n",
      "\u001b[1m[\u001b[0m\u001b[34;49mnotice\u001b[0m\u001b[1;39;49m]\u001b[0m\u001b[39;49m To update, run: \u001b[0m\u001b[32;49mpip install --upgrade pip\u001b[0m\n",
      "Note: you may need to restart the kernel to use updated packages.\n"
     ]
    }
   ],
   "source": [
    "pip install -f http://h2o-release.s3.amazonaws.com/h2o/latest_stable_Py.html h2o\n"
   ]
  },
  {
   "cell_type": "code",
   "execution_count": 139,
   "metadata": {},
   "outputs": [
    {
     "name": "stdout",
     "output_type": "stream",
     "text": [
      "Registered versions for environment 'h2o-env':\n",
      " • Version 2\n",
      " • Version 1\n",
      "\n",
      "✅ Latest version is 2\n"
     ]
    }
   ],
   "source": [
    "from azure.ai.ml.entities import Environment\n",
    "name=\"h2o-env\"\n",
    "\n",
    "\n",
    "env = Environment(\n",
    "    name=name,\n",
    "    version=\"2\",  # bump version manually\n",
    "    conda_file=\"conda.yaml\",\n",
    "    image=\"mcr.microsoft.com/azureml/openmpi4.1.0-ubuntu20.04\"\n",
    ")\n",
    "ml_client.environments.create_or_update(env)\n",
    "\n",
    "\n",
    "ml_client.environments.create_or_update(env)\n",
    "# 1️⃣ Fetch all versions of the environment\n",
    "\n",
    "env_versions = list(ml_client.environments.list(name=name))\n",
    "\n",
    "print(f\"Registered versions for environment '{name}':\")\n",
    "for env in env_versions:\n",
    "    print(f\" • Version {env.version}\")\n",
    "\n",
    "# 2️⃣ Find the latest version by numeric comparison\n",
    "latest_env = max(env_versions, key=lambda e: int(e.version))\n",
    "print(f\"\\n✅ Latest version is {latest_env.version}\")\n"
   ]
  },
  {
   "cell_type": "code",
   "execution_count": 140,
   "metadata": {},
   "outputs": [],
   "source": [
    "import uuid\n",
    "\n",
    "# Creating a unique name for the endpoint\n",
    "online_endpoint_name = \"iat-endpiont-v2\""
   ]
  },
  {
   "cell_type": "code",
   "execution_count": 141,
   "metadata": {},
   "outputs": [
    {
     "name": "stdout",
     "output_type": "stream",
     "text": [
      "Endpint iat-endpiont-v2 provisioning state: Succeeded\n"
     ]
    }
   ],
   "source": [
    "from azure.ai.ml.entities import (\n",
    "    ManagedOnlineEndpoint,\n",
    "    ManagedOnlineDeployment,\n",
    "    Model,\n",
    "    Environment,\n",
    ")\n",
    "\n",
    "# create an online endpoint\n",
    "endpoint = ManagedOnlineEndpoint(\n",
    "    name=online_endpoint_name,\n",
    "    description=\"this is an online endpoint\",\n",
    "    auth_mode=\"key\",\n",
    "    tags={\n",
    "        \"training_dataset\": \"credit_defaults\",\n",
    "        \"model_type\": \"sklearn.GradientBoostingClassifier\",\n",
    "    },\n",
    ")\n",
    "\n",
    "endpoint_result = ml_client.begin_create_or_update(endpoint).result()\n",
    "\n",
    "print(\n",
    "    f\"Endpint {endpoint_result.name} provisioning state: {endpoint_result.provisioning_state}\"\n",
    ")"
   ]
  },
  {
   "cell_type": "code",
   "execution_count": 142,
   "metadata": {},
   "outputs": [
    {
     "name": "stdout",
     "output_type": "stream",
     "text": [
      "Endpint \"iat-endpiont-v2\" with provisioning state \"Succeeded\" is retrieved\n"
     ]
    }
   ],
   "source": [
    "endpoint = ml_client.online_endpoints.get(name=online_endpoint_name)\n",
    "\n",
    "print(\n",
    "    f'Endpint \"{endpoint.name}\" with provisioning state \"{endpoint.provisioning_state}\" is retrieved'\n",
    ")"
   ]
  },
  {
   "cell_type": "code",
   "execution_count": 143,
   "metadata": {},
   "outputs": [],
   "source": [
    "from azure.ai.ml.entities import Model\n",
    "\n",
    "\n",
    "model = ml_client.models.get(name=\"h2o-model\", version=\"4\")"
   ]
  },
  {
   "cell_type": "code",
   "execution_count": 144,
   "metadata": {},
   "outputs": [],
   "source": [
    "\n",
    "from azure.ai.ml.entities import (\n",
    "    ManagedOnlineDeployment,\n",
    "    Environment,\n",
    "    CodeConfiguration\n",
    ")\n",
    "code_config = CodeConfiguration(\n",
    "    code=\".\",              # Folder containing score.py\n",
    "    scoring_script=\"score.py\"  # Your scoring script\n",
    ")\n",
    "\n",
    "# Step 3: Attach environment and code config to deployment\n",
    "blue_deployment = ManagedOnlineDeployment(\n",
    "    name=\"blue\",\n",
    "    endpoint_name=online_endpoint_name,\n",
    "    model=model,\n",
    "    environment=\"h2o-env:2\",\n",
    "    code_configuration=code_config,\n",
    "    instance_type=\"Standard_E2s_v3\",\n",
    "    instance_count=1,\n",
    ")"
   ]
  },
  {
   "cell_type": "code",
   "execution_count": 145,
   "metadata": {},
   "outputs": [
    {
     "name": "stderr",
     "output_type": "stream",
     "text": [
      "Check: endpoint iat-endpiont-v2 exists\n",
      "\u001b[32mUploading testiat (5.18 MBs): 100%|██████████| 5184193/5184193 [00:03<00:00, 1609683.40it/s]\n",
      "\u001b[39m\n",
      "\n"
     ]
    },
    {
     "name": "stdout",
     "output_type": "stream",
     "text": [
      "......................................................................Deployment state: Succeeded\n"
     ]
    }
   ],
   "source": [
    "# Create the deployment\n",
    "blue_deployment_results = ml_client.online_deployments.begin_create_or_update(\n",
    "    blue_deployment\n",
    ").result()\n",
    "\n",
    "print(f\"Deployment state: {blue_deployment_results.provisioning_state}\")"
   ]
  },
  {
   "cell_type": "code",
   "execution_count": 67,
   "metadata": {},
   "outputs": [],
   "source": [
    "deploy_dir = \"./deploy\"\n",
    "os.makedirs(deploy_dir, exist_ok=True)"
   ]
  },
  {
   "cell_type": "code",
   "execution_count": 68,
   "metadata": {},
   "outputs": [
    {
     "name": "stdout",
     "output_type": "stream",
     "text": [
      "Writing ./deploy/sample-request.json\n"
     ]
    }
   ],
   "source": [
    "%%writefile {deploy_dir}/sample-request.json\n",
    "{\n",
    "  \"data\": [\n",
    "    {\n",
    "      \"sepal_length\": 6.7,\n",
    "      \"sepal_width\": 3.1,\n",
    "      \"petal_length\": 4.7,\n",
    "      \"petal_width\": 1.5\n",
    "    }\n",
    "  ]\n",
    "}"
   ]
  },
  {
   "cell_type": "code",
   "execution_count": 150,
   "metadata": {},
   "outputs": [
    {
     "data": {
      "text/plain": [
       "'\"[{\\\\\"predict\\\\\":\\\\\"versicolor\\\\\",\\\\\"setosa\\\\\":0.001944083,\\\\\"versicolor\\\\\":0.9898267126,\\\\\"virginica\\\\\":0.0082292044}]\"'"
      ]
     },
     "execution_count": 150,
     "metadata": {},
     "output_type": "execute_result"
    }
   ],
   "source": [
    "# test the blue deployment with some sample data\n",
    "ml_client.online_endpoints.invoke(\n",
    "    endpoint_name=\"iat-endpiont\",\n",
    "    request_file=\"./deploy/sample-request.json\",\n",
    "    deployment_name=\"blue\",\n",
    ")"
   ]
  },
  {
   "cell_type": "code",
   "execution_count": 149,
   "metadata": {},
   "outputs": [
    {
     "name": "stdout",
     "output_type": "stream",
     "text": [
      "The request failed with status code: 404\n",
      "content-type: text/plain\n",
      "content-length: 506\n",
      "date: Mon, 09 Jun 2025 19:06:46 GMT\n",
      "server: azureml-frontdoor\n",
      "x-request-id: 11515028-364d-44c2-8e5a-3dd1d5eae79d\n",
      "connection: close\n",
      "\n",
      "\n",
      "No valid deployments to route to. Please check that the endpoint has at least one deployment with positive weight values or use a deployment specific header to route. [https://docs.microsoft.com/en-us/azure/machine-learning/how-to-safely-rollout-managed-endpoints#deploy-a-new-model-but-send-it-no-traffic-yet]\n",
      "Please check this guide to understand why this error code might have been returned \n",
      "https://docs.microsoft.com/en-us/azure/machine-learning/how-to-troubleshoot-online-endpoints#http-status-codes\n",
      "\n"
     ]
    }
   ],
   "source": [
    "import urllib.request\n",
    "import json\n",
    "\n",
    "# Request data goes here\n",
    "# The example below assumes JSON formatting which may be updated\n",
    "# depending on the format your endpoint expects.\n",
    "# More information can be found here:\n",
    "# https://docs.microsoft.com/azure/machine-learning/how-to-deploy-advanced-entry-script\n",
    "data = {\n",
    "  \"data\": [\n",
    "    {\n",
    "      \"sepal_length\": 6.7,\n",
    "      \"sepal_width\": 3.1,\n",
    "      \"petal_length\": 4.7,\n",
    "      \"petal_width\": 1.5\n",
    "    }\n",
    "  ]\n",
    "}\n",
    "\n",
    "body = str.encode(json.dumps(data))\n",
    "\n",
    "url = 'https://iat-endpiont-v2.southcentralus.inference.ml.azure.com/score'\n",
    "# Replace this with the primary/secondary key, AMLToken, or Microsoft Entra ID token for the endpoint\n",
    "api_key = '7f8fl8kAMg4E0TOnptvt6wVWLs5JXZtqYL2bubFIR1Yekj9bDCC8JQQJ99BFAAAAAAAAAAAAINFRAZML33hg'\n",
    "if not api_key:\n",
    "    raise Exception(\"A key should be provided to invoke the endpoint\")\n",
    "\n",
    "\n",
    "headers = {'Content-Type':'application/json', 'Accept': 'application/json', 'Authorization':('Bearer '+ api_key)}\n",
    "\n",
    "req = urllib.request.Request(url, body, headers)\n",
    "\n",
    "try:\n",
    "    response = urllib.request.urlopen(req)\n",
    "\n",
    "    result = response.read()\n",
    "    print(result)\n",
    "except urllib.error.HTTPError as error:\n",
    "    print(\"The request failed with status code: \" + str(error.code))\n",
    "\n",
    "    # Print the headers - they include the requert ID and the timestamp, which are useful for debugging the failure\n",
    "    print(error.info())\n",
    "    print(error.read().decode(\"utf8\", 'ignore'))"
   ]
  }
 ],
 "metadata": {
  "kernelspec": {
   "display_name": "h2o-mojo-env-v1",
   "language": "python",
   "name": "python3"
  },
  "language_info": {
   "codemirror_mode": {
    "name": "ipython",
    "version": 3
   },
   "file_extension": ".py",
   "mimetype": "text/x-python",
   "name": "python",
   "nbconvert_exporter": "python",
   "pygments_lexer": "ipython3",
   "version": "3.9.23"
  },
  "microsoft": {
   "ms_spell_check": {
    "ms_spell_check_language": "en"
   }
  },
  "nteract": {
   "version": "nteract-front-end@1.0.0"
  }
 },
 "nbformat": 4,
 "nbformat_minor": 2
}
