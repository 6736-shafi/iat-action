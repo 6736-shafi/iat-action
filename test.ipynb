{
 "cells": [
  {
   "cell_type": "code",
   "execution_count": 5,
   "metadata": {},
   "outputs": [],
   "source": [
    "from azure.identity import AzureCliCredential\n",
    "from azure.ai.ml import MLClient\n",
    "from azure.ai.ml.entities import Model\n",
    "from azure.ai.ml.constants import AssetTypes\n",
    "\n",
    "# Use Azure CLI credential (since you're logged in via `az login`)\n",
    "credential = AzureCliCredential()\n",
    "\n",
    "ml_client = MLClient(\n",
    "    credential=credential,\n",
    "    subscription_id=\"6bd1f99e-e7cb-4226-b9d5-09433d793bda\",\n",
    "    resource_group_name=\"shafi1\",\n",
    "    workspace_name=\"shafi1\"\n",
    ")\n",
    "\n",
    "\n"
   ]
  },
  {
   "cell_type": "code",
   "execution_count": null,
   "metadata": {},
   "outputs": [
    {
     "ename": "ModuleNotFoundError",
     "evalue": "No module named 'config'",
     "output_type": "error",
     "traceback": [
      "\u001b[0;31m---------------------------------------------------------------------------\u001b[0m\n",
      "\u001b[0;31mModuleNotFoundError\u001b[0m                       Traceback (most recent call last)\n",
      "Cell \u001b[0;32mIn[31], line 8\u001b[0m\n",
      "\u001b[1;32m      5\u001b[0m sys\u001b[38;5;241m.\u001b[39mpath\u001b[38;5;241m.\u001b[39mappend(\u001b[38;5;28mstr\u001b[39m(Path\u001b[38;5;241m.\u001b[39mcwd()))\n",
      "\u001b[1;32m      7\u001b[0m \u001b[38;5;66;03m# Import the function\u001b[39;00m\n",
      "\u001b[0;32m----> 8\u001b[0m \u001b[38;5;28;01mfrom\u001b[39;00m \u001b[38;5;21;01mconfig\u001b[39;00m\u001b[38;5;21;01m.\u001b[39;00m\u001b[38;5;21;01mconnection\u001b[39;00m \u001b[38;5;28;01mimport\u001b[39;00m get_ml_client\n",
      "\n",
      "\u001b[0;31mModuleNotFoundError\u001b[0m: No module named 'config'"
     ]
    }
   ],
   "source": [
    "import sys\n",
    "from pathlib import Path\n",
    "\n",
    "# Add the parent directory to sys.path\n",
    "sys.path.append(str(Path.cwd()))\n",
    "\n",
    "# Import the function\n",
    "from config.connection import get_ml_client"
   ]
  },
  {
   "cell_type": "code",
   "execution_count": 18,
   "metadata": {},
   "outputs": [
    {
     "name": "stderr",
     "output_type": "stream",
     "text": [
      "Invalid type NoneType for attribute 'resource_group_name' value. Expected one of ['bool', 'str', 'bytes', 'int', 'float'] or a sequence of those types\n",
      "Invalid type NoneType for attribute 'resource_group_name' value. Expected one of ['bool', 'str', 'bytes', 'int', 'float'] or a sequence of those types\n",
      "Invalid type NoneType for attribute 'resource_group_name' value. Expected one of ['bool', 'str', 'bytes', 'int', 'float'] or a sequence of those types\n",
      "Invalid type NoneType for attribute 'resource_group_name' value. Expected one of ['bool', 'str', 'bytes', 'int', 'float'] or a sequence of those types\n",
      "Invalid type NoneType for attribute 'resource_group_name' value. Expected one of ['bool', 'str', 'bytes', 'int', 'float'] or a sequence of those types\n",
      "\u001b[32mUploading GBM_model_python_1749296476765_1.zip\u001b[32m (< 1 MB): 100%|██████████| 108k/108k [00:00<00:00, 1.15MB/s]\n",
      "\u001b[39m\n",
      "\n",
      "Invalid type NoneType for attribute 'resource_group_name' value. Expected one of ['bool', 'str', 'bytes', 'int', 'float'] or a sequence of those types\n"
     ]
    },
    {
     "name": "stdout",
     "output_type": "stream",
     "text": [
      "Model registered: h2o-model, Version: 1\n"
     ]
    }
   ],
   "source": [
    "from azure.ai.ml.entities import Model\n",
    "from azure.ai.ml.constants import AssetTypes\n",
    "model = Model(\n",
    "    path=\"./GBM_model_python_1749296476765_1.zip\",  # Local model path\n",
    "    type=AssetTypes.CUSTOM_MODEL,\n",
    "    name=\"h2o-model\",\n",
    "    description=\"My custom model registered from local file\"\n",
    ")\n",
    "registered_model = ml_client.models.create_or_update(model)\n",
    "print(f\"Model registered: {registered_model.name}, Version: {registered_model.version}\")"
   ]
  },
  {
   "cell_type": "code",
   "execution_count": null,
   "metadata": {},
   "outputs": [
    {
     "name": "stdout",
     "output_type": "stream",
     "text": [
      "\n",
      "All registered versions of 'my_model':\n",
      "  - Version 2: asset ID /subscriptions/6fab868f-e7ff-4000-b366-b5d0a27cc581/resourceGroups/iat/providers/Microsoft.MachineLearningServices/workspaces/shafi4/models/my_model/versions/2\n",
      "  - Version 1: asset ID /subscriptions/6fab868f-e7ff-4000-b366-b5d0a27cc581/resourceGroups/iat/providers/Microsoft.MachineLearningServices/workspaces/shafi4/models/my_model/versions/1\n",
      "\n",
      "✅ Latest version is 2\n"
     ]
    }
   ],
   "source": [
    "# model_name = \"my_model\"\n",
    "\n",
    "# models = list(ml_client.models.list(name=model_name))\n",
    "# print(f\"\\nAll registered versions of '{model_name}':\")\n",
    "# for m in models:\n",
    "#     print(f\"  - Version {m.version}: asset ID {m.id}\")\n",
    "    \n",
    "# latest = max(models, key=lambda x: int(x.version))\n",
    "# print(f\"\\n✅ Latest version is {latest.version}\")"
   ]
  },
  {
   "cell_type": "code",
   "execution_count": 2,
   "metadata": {},
   "outputs": [
    {
     "name": "stdout",
     "output_type": "stream",
     "text": [
      "Looking in links: http://h2o-release.s3.amazonaws.com/h2o/latest_stable_Py.html\n",
      "Requirement already satisfied: h2o in ./iat/lib/python3.12/site-packages (3.46.0.7)\n",
      "Requirement already satisfied: requests in ./iat/lib/python3.12/site-packages (from h2o) (2.32.3)\n",
      "Requirement already satisfied: tabulate in ./iat/lib/python3.12/site-packages (from h2o) (0.9.0)\n",
      "Requirement already satisfied: charset-normalizer<4,>=2 in ./iat/lib/python3.12/site-packages (from requests->h2o) (3.4.2)\n",
      "Requirement already satisfied: idna<4,>=2.5 in ./iat/lib/python3.12/site-packages (from requests->h2o) (3.10)\n",
      "Requirement already satisfied: urllib3<3,>=1.21.1 in ./iat/lib/python3.12/site-packages (from requests->h2o) (2.4.0)\n",
      "Requirement already satisfied: certifi>=2017.4.17 in ./iat/lib/python3.12/site-packages (from requests->h2o) (2025.4.26)\n",
      "\n",
      "\u001b[1m[\u001b[0m\u001b[34;49mnotice\u001b[0m\u001b[1;39;49m]\u001b[0m\u001b[39;49m A new release of pip is available: \u001b[0m\u001b[31;49m24.2\u001b[0m\u001b[39;49m -> \u001b[0m\u001b[32;49m25.1.1\u001b[0m\n",
      "\u001b[1m[\u001b[0m\u001b[34;49mnotice\u001b[0m\u001b[1;39;49m]\u001b[0m\u001b[39;49m To update, run: \u001b[0m\u001b[32;49mpip install --upgrade pip\u001b[0m\n",
      "Note: you may need to restart the kernel to use updated packages.\n"
     ]
    }
   ],
   "source": [
    "pip install -f http://h2o-release.s3.amazonaws.com/h2o/latest_stable_Py.html h2o\n"
   ]
  },
  {
   "cell_type": "code",
   "execution_count": null,
   "metadata": {},
   "outputs": [
    {
     "name": "stdout",
     "output_type": "stream",
     "text": [
      "Registered versions for environment 'kartik':\n",
      " • Version 2\n",
      "\n",
      "✅ Latest version is 2\n"
     ]
    }
   ],
   "source": [
    "from azure.ai.ml.entities import Environment\n",
    "name=\"kartik\"\n",
    "\n",
    "\n",
    "env = Environment(\n",
    "    name=name,\n",
    "    version=\"2\",  # bump version manually\n",
    "    conda_file=\"conda.yaml\",\n",
    "    image=\"mcr.microsoft.com/azureml/openmpi4.1.0-ubuntu20.04\"\n",
    ")\n",
    "ml_client.environments.create_or_update(env)\n",
    "\n",
    "\n",
    "ml_client.environments.create_or_update(env)\n",
    "# 1️⃣ Fetch all versions of the environment\n",
    "\n",
    "env_versions = list(ml_client.environments.list(name=name))\n",
    "\n",
    "print(f\"Registered versions for environment '{name}':\")\n",
    "for env in env_versions:\n",
    "    print(f\" • Version {env.version}\")\n",
    "\n",
    "# 2️⃣ Find the latest version by numeric comparison\n",
    "latest_env = max(env_versions, key=lambda e: int(e.version))\n",
    "print(f\"\\n✅ Latest version is {latest_env.version}\")\n"
   ]
  },
  {
   "cell_type": "code",
   "execution_count": 12,
   "metadata": {},
   "outputs": [],
   "source": [
    "import uuid\n",
    "\n",
    "# Creating a unique name for the endpoint\n",
    "online_endpoint_name = \"iat-endpiont-v3\""
   ]
  },
  {
   "cell_type": "code",
   "execution_count": null,
   "metadata": {},
   "outputs": [],
   "source": []
  },
  {
   "cell_type": "code",
   "execution_count": 14,
   "metadata": {},
   "outputs": [
    {
     "ename": "HttpResponseError",
     "evalue": "(BadRequest) The request is invalid.\nCode: BadRequest\nMessage: The request is invalid.\nException Details:\t(InferencingClientCallFailed) {\"error\":{\"code\":\"Validation\",\"message\":\"{\\\"errors\\\":{\\\"\\\":[\\\"Specified endpoint [iat-endpiont-v3] is in deleting provisioning state.\\\"]},\\\"type\\\":\\\"https://tools.ietf.org/html/rfc9110#section-15.5.1\\\",\\\"title\\\":\\\"One or more validation errors occurred.\\\",\\\"status\\\":400,\\\"traceId\\\":\\\"00-5c965dcbdf34abb4d2d71f56d37abc61-4241d44a6ce94ad2-01\\\"}\"}}\n\tCode: InferencingClientCallFailed\n\tMessage: {\"error\":{\"code\":\"Validation\",\"message\":\"{\\\"errors\\\":{\\\"\\\":[\\\"Specified endpoint [iat-endpiont-v3] is in deleting provisioning state.\\\"]},\\\"type\\\":\\\"https://tools.ietf.org/html/rfc9110#section-15.5.1\\\",\\\"title\\\":\\\"One or more validation errors occurred.\\\",\\\"status\\\":400,\\\"traceId\\\":\\\"00-5c965dcbdf34abb4d2d71f56d37abc61-4241d44a6ce94ad2-01\\\"}\"}}\nAdditional Information:Type: ComponentName\nInfo: {\n    \"value\": \"managementfrontend\"\n}Type: Correlation\nInfo: {\n    \"value\": {\n        \"operation\": \"5c965dcbdf34abb4d2d71f56d37abc61\",\n        \"request\": \"a89dfa7877897903\"\n    }\n}Type: Environment\nInfo: {\n    \"value\": \"centralindia\"\n}Type: Location\nInfo: {\n    \"value\": \"centralindia\"\n}Type: Time\nInfo: {\n    \"value\": \"2025-06-13T10:01:28.4683272+00:00\"\n}",
     "output_type": "error",
     "traceback": [
      "\u001b[0;31m---------------------------------------------------------------------------\u001b[0m",
      "\u001b[0;31mHttpResponseError\u001b[0m                         Traceback (most recent call last)",
      "Cell \u001b[0;32mIn[14], line 19\u001b[0m\n\u001b[1;32m      8\u001b[0m \u001b[38;5;66;03m# create an online endpoint\u001b[39;00m\n\u001b[1;32m      9\u001b[0m endpoint \u001b[38;5;241m=\u001b[39m ManagedOnlineEndpoint(\n\u001b[1;32m     10\u001b[0m     name\u001b[38;5;241m=\u001b[39monline_endpoint_name,\n\u001b[1;32m     11\u001b[0m     description\u001b[38;5;241m=\u001b[39m\u001b[38;5;124m\"\u001b[39m\u001b[38;5;124mthis is an online endpoint\u001b[39m\u001b[38;5;124m\"\u001b[39m,\n\u001b[0;32m   (...)\u001b[0m\n\u001b[1;32m     16\u001b[0m     },\n\u001b[1;32m     17\u001b[0m )\n\u001b[0;32m---> 19\u001b[0m endpoint_result \u001b[38;5;241m=\u001b[39m \u001b[43mml_client\u001b[49m\u001b[38;5;241;43m.\u001b[39;49m\u001b[43mbegin_create_or_update\u001b[49m\u001b[43m(\u001b[49m\u001b[43mendpoint\u001b[49m\u001b[43m)\u001b[49m\u001b[38;5;241m.\u001b[39mresult()\n\u001b[1;32m     21\u001b[0m \u001b[38;5;28mprint\u001b[39m(\n\u001b[1;32m     22\u001b[0m     \u001b[38;5;124mf\u001b[39m\u001b[38;5;124m\"\u001b[39m\u001b[38;5;124mEndpint \u001b[39m\u001b[38;5;132;01m{\u001b[39;00mendpoint_result\u001b[38;5;241m.\u001b[39mname\u001b[38;5;132;01m}\u001b[39;00m\u001b[38;5;124m provisioning state: \u001b[39m\u001b[38;5;132;01m{\u001b[39;00mendpoint_result\u001b[38;5;241m.\u001b[39mprovisioning_state\u001b[38;5;132;01m}\u001b[39;00m\u001b[38;5;124m\"\u001b[39m\n\u001b[1;32m     23\u001b[0m )\n",
      "File \u001b[0;32m~/miniconda3/envs/h2o-mojo-env-v1/lib/python3.9/site-packages/azure/ai/ml/_ml_client.py:1308\u001b[0m, in \u001b[0;36mMLClient.begin_create_or_update\u001b[0;34m(self, entity, **kwargs)\u001b[0m\n\u001b[1;32m   1289\u001b[0m \u001b[38;5;28;01mdef\u001b[39;00m \u001b[38;5;21mbegin_create_or_update\u001b[39m(\n\u001b[1;32m   1290\u001b[0m     \u001b[38;5;28mself\u001b[39m,\n\u001b[1;32m   1291\u001b[0m     entity: R,\n\u001b[1;32m   1292\u001b[0m     \u001b[38;5;241m*\u001b[39m\u001b[38;5;241m*\u001b[39mkwargs,\n\u001b[1;32m   1293\u001b[0m ) \u001b[38;5;241m-\u001b[39m\u001b[38;5;241m>\u001b[39m LROPoller[R]:\n\u001b[1;32m   1294\u001b[0m \u001b[38;5;250m    \u001b[39m\u001b[38;5;124;03m\"\"\"Creates or updates an Azure ML resource asynchronously.\u001b[39;00m\n\u001b[1;32m   1295\u001b[0m \n\u001b[1;32m   1296\u001b[0m \u001b[38;5;124;03m    :param entity: The resource to create or update.\u001b[39;00m\n\u001b[0;32m   (...)\u001b[0m\n\u001b[1;32m   1305\u001b[0m \u001b[38;5;124;03m        , ~azure.ai.ml.entities.BatchEndpoint, ~azure.ai.ml.entities.Schedule]]\u001b[39;00m\n\u001b[1;32m   1306\u001b[0m \u001b[38;5;124;03m    \"\"\"\u001b[39;00m\n\u001b[0;32m-> 1308\u001b[0m     \u001b[38;5;28;01mreturn\u001b[39;00m \u001b[43m_begin_create_or_update\u001b[49m\u001b[43m(\u001b[49m\u001b[43mentity\u001b[49m\u001b[43m,\u001b[49m\u001b[43m \u001b[49m\u001b[38;5;28;43mself\u001b[39;49m\u001b[38;5;241;43m.\u001b[39;49m\u001b[43m_operation_container\u001b[49m\u001b[38;5;241;43m.\u001b[39;49m\u001b[43mall_operations\u001b[49m\u001b[43m,\u001b[49m\u001b[43m \u001b[49m\u001b[38;5;241;43m*\u001b[39;49m\u001b[38;5;241;43m*\u001b[39;49m\u001b[43mkwargs\u001b[49m\u001b[43m)\u001b[49m\n",
      "File \u001b[0;32m~/miniconda3/envs/h2o-mojo-env-v1/lib/python3.9/functools.py:888\u001b[0m, in \u001b[0;36msingledispatch.<locals>.wrapper\u001b[0;34m(*args, **kw)\u001b[0m\n\u001b[1;32m    884\u001b[0m \u001b[38;5;28;01mif\u001b[39;00m \u001b[38;5;129;01mnot\u001b[39;00m args:\n\u001b[1;32m    885\u001b[0m     \u001b[38;5;28;01mraise\u001b[39;00m \u001b[38;5;167;01mTypeError\u001b[39;00m(\u001b[38;5;124mf\u001b[39m\u001b[38;5;124m'\u001b[39m\u001b[38;5;132;01m{\u001b[39;00mfuncname\u001b[38;5;132;01m}\u001b[39;00m\u001b[38;5;124m requires at least \u001b[39m\u001b[38;5;124m'\u001b[39m\n\u001b[1;32m    886\u001b[0m                     \u001b[38;5;124m'\u001b[39m\u001b[38;5;124m1 positional argument\u001b[39m\u001b[38;5;124m'\u001b[39m)\n\u001b[0;32m--> 888\u001b[0m \u001b[38;5;28;01mreturn\u001b[39;00m \u001b[43mdispatch\u001b[49m\u001b[43m(\u001b[49m\u001b[43margs\u001b[49m\u001b[43m[\u001b[49m\u001b[38;5;241;43m0\u001b[39;49m\u001b[43m]\u001b[49m\u001b[38;5;241;43m.\u001b[39;49m\u001b[38;5;18;43m__class__\u001b[39;49m\u001b[43m)\u001b[49m\u001b[43m(\u001b[49m\u001b[38;5;241;43m*\u001b[39;49m\u001b[43margs\u001b[49m\u001b[43m,\u001b[49m\u001b[43m \u001b[49m\u001b[38;5;241;43m*\u001b[39;49m\u001b[38;5;241;43m*\u001b[39;49m\u001b[43mkw\u001b[49m\u001b[43m)\u001b[49m\n",
      "File \u001b[0;32m~/miniconda3/envs/h2o-mojo-env-v1/lib/python3.9/site-packages/azure/ai/ml/_ml_client.py:1408\u001b[0m, in \u001b[0;36m_\u001b[0;34m(entity, operations, *args, **kwargs)\u001b[0m\n\u001b[1;32m   1405\u001b[0m \u001b[38;5;129m@_begin_create_or_update\u001b[39m\u001b[38;5;241m.\u001b[39mregister(OnlineEndpoint)\n\u001b[1;32m   1406\u001b[0m \u001b[38;5;28;01mdef\u001b[39;00m \u001b[38;5;21m_\u001b[39m(entity: OnlineEndpoint, operations, \u001b[38;5;241m*\u001b[39margs, \u001b[38;5;241m*\u001b[39m\u001b[38;5;241m*\u001b[39mkwargs):\n\u001b[1;32m   1407\u001b[0m     module_logger\u001b[38;5;241m.\u001b[39mdebug(\u001b[38;5;124m\"\u001b[39m\u001b[38;5;124mCreating or updating online_endpoints\u001b[39m\u001b[38;5;124m\"\u001b[39m)\n\u001b[0;32m-> 1408\u001b[0m     \u001b[38;5;28;01mreturn\u001b[39;00m \u001b[43moperations\u001b[49m\u001b[43m[\u001b[49m\u001b[43mAzureMLResourceType\u001b[49m\u001b[38;5;241;43m.\u001b[39;49m\u001b[43mONLINE_ENDPOINT\u001b[49m\u001b[43m]\u001b[49m\u001b[38;5;241;43m.\u001b[39;49m\u001b[43mbegin_create_or_update\u001b[49m\u001b[43m(\u001b[49m\u001b[43mentity\u001b[49m\u001b[43m,\u001b[49m\u001b[43m \u001b[49m\u001b[38;5;241;43m*\u001b[39;49m\u001b[38;5;241;43m*\u001b[39;49m\u001b[43mkwargs\u001b[49m\u001b[43m)\u001b[49m\n",
      "File \u001b[0;32m~/miniconda3/envs/h2o-mojo-env-v1/lib/python3.9/site-packages/azure/core/tracing/decorator.py:138\u001b[0m, in \u001b[0;36mdistributed_trace.<locals>.decorator.<locals>.wrapper_use_tracer\u001b[0;34m(*args, **kwargs)\u001b[0m\n\u001b[1;32m    136\u001b[0m             \u001b[38;5;28;01mfor\u001b[39;00m key, value \u001b[38;5;129;01min\u001b[39;00m span_attributes\u001b[38;5;241m.\u001b[39mitems():\n\u001b[1;32m    137\u001b[0m                 span\u001b[38;5;241m.\u001b[39madd_attribute(key, value)  \u001b[38;5;66;03m# type: ignore\u001b[39;00m\n\u001b[0;32m--> 138\u001b[0m             \u001b[38;5;28;01mreturn\u001b[39;00m \u001b[43mfunc\u001b[49m\u001b[43m(\u001b[49m\u001b[38;5;241;43m*\u001b[39;49m\u001b[43margs\u001b[49m\u001b[43m,\u001b[49m\u001b[43m \u001b[49m\u001b[38;5;241;43m*\u001b[39;49m\u001b[38;5;241;43m*\u001b[39;49m\u001b[43mkwargs\u001b[49m\u001b[43m)\u001b[49m\n\u001b[1;32m    139\u001b[0m \u001b[38;5;28;01melse\u001b[39;00m:\n\u001b[1;32m    140\u001b[0m     \u001b[38;5;66;03m# Native path\u001b[39;00m\n\u001b[1;32m    141\u001b[0m     config \u001b[38;5;241m=\u001b[39m {}\n",
      "File \u001b[0;32m~/miniconda3/envs/h2o-mojo-env-v1/lib/python3.9/site-packages/azure/ai/ml/_telemetry/activity.py:288\u001b[0m, in \u001b[0;36mmonitor_with_activity.<locals>.monitor.<locals>.wrapper\u001b[0;34m(*args, **kwargs)\u001b[0m\n\u001b[1;32m    284\u001b[0m     \u001b[38;5;28;01mwith\u001b[39;00m tracer\u001b[38;5;241m.\u001b[39mstart_as_current_span(ACTIVITY_SPAN):\n\u001b[1;32m    285\u001b[0m         \u001b[38;5;28;01mwith\u001b[39;00m log_activity(\n\u001b[1;32m    286\u001b[0m             logger\u001b[38;5;241m.\u001b[39mpackage_logger, activity_name \u001b[38;5;129;01mor\u001b[39;00m f\u001b[38;5;241m.\u001b[39m\u001b[38;5;18m__name__\u001b[39m, activity_type, custom_dimensions\n\u001b[1;32m    287\u001b[0m         ):\n\u001b[0;32m--> 288\u001b[0m             \u001b[38;5;28;01mreturn\u001b[39;00m \u001b[43mf\u001b[49m\u001b[43m(\u001b[49m\u001b[38;5;241;43m*\u001b[39;49m\u001b[43margs\u001b[49m\u001b[43m,\u001b[49m\u001b[43m \u001b[49m\u001b[38;5;241;43m*\u001b[39;49m\u001b[38;5;241;43m*\u001b[39;49m\u001b[43mkwargs\u001b[49m\u001b[43m)\u001b[49m\n\u001b[1;32m    289\u001b[0m \u001b[38;5;28;01melif\u001b[39;00m \u001b[38;5;28mhasattr\u001b[39m(logger, \u001b[38;5;124m\"\u001b[39m\u001b[38;5;124mpackage_logger\u001b[39m\u001b[38;5;124m\"\u001b[39m):\n\u001b[1;32m    290\u001b[0m     \u001b[38;5;28;01mwith\u001b[39;00m log_activity(logger\u001b[38;5;241m.\u001b[39mpackage_logger, activity_name \u001b[38;5;129;01mor\u001b[39;00m f\u001b[38;5;241m.\u001b[39m\u001b[38;5;18m__name__\u001b[39m, activity_type, custom_dimensions):\n",
      "File \u001b[0;32m~/miniconda3/envs/h2o-mojo-env-v1/lib/python3.9/site-packages/azure/ai/ml/operations/_online_endpoint_operations.py:263\u001b[0m, in \u001b[0;36mOnlineEndpointOperations.begin_create_or_update\u001b[0;34m(self, endpoint, local)\u001b[0m\n\u001b[1;32m    261\u001b[0m     log_and_raise_error(ex)\n\u001b[1;32m    262\u001b[0m \u001b[38;5;28;01melse\u001b[39;00m:\n\u001b[0;32m--> 263\u001b[0m     \u001b[38;5;28;01mraise\u001b[39;00m ex\n",
      "File \u001b[0;32m~/miniconda3/envs/h2o-mojo-env-v1/lib/python3.9/site-packages/azure/ai/ml/operations/_online_endpoint_operations.py:258\u001b[0m, in \u001b[0;36mOnlineEndpointOperations.begin_create_or_update\u001b[0;34m(self, endpoint, local)\u001b[0m\n\u001b[1;32m    255\u001b[0m         \u001b[38;5;28;01mreturn\u001b[39;00m poller\n\u001b[1;32m    257\u001b[0m     \u001b[38;5;28;01mexcept\u001b[39;00m \u001b[38;5;167;01mException\u001b[39;00m \u001b[38;5;28;01mas\u001b[39;00m ex:\n\u001b[0;32m--> 258\u001b[0m         \u001b[38;5;28;01mraise\u001b[39;00m ex\n\u001b[1;32m    259\u001b[0m \u001b[38;5;28;01mexcept\u001b[39;00m \u001b[38;5;167;01mException\u001b[39;00m \u001b[38;5;28;01mas\u001b[39;00m ex:  \u001b[38;5;66;03m# pylint: disable=W0718\u001b[39;00m\n\u001b[1;32m    260\u001b[0m     \u001b[38;5;28;01mif\u001b[39;00m \u001b[38;5;28misinstance\u001b[39m(ex, (ValidationException, SchemaValidationError)):\n",
      "File \u001b[0;32m~/miniconda3/envs/h2o-mojo-env-v1/lib/python3.9/site-packages/azure/ai/ml/operations/_online_endpoint_operations.py:247\u001b[0m, in \u001b[0;36mOnlineEndpointOperations.begin_create_or_update\u001b[0;34m(self, endpoint, local)\u001b[0m\n\u001b[1;32m    242\u001b[0m     \u001b[38;5;28;01mif\u001b[39;00m \u001b[38;5;28mhasattr\u001b[39m(endpoint_resource\u001b[38;5;241m.\u001b[39mproperties, \u001b[38;5;124m\"\u001b[39m\u001b[38;5;124mcompute\u001b[39m\u001b[38;5;124m\"\u001b[39m):\n\u001b[1;32m    243\u001b[0m         endpoint_resource\u001b[38;5;241m.\u001b[39mproperties\u001b[38;5;241m.\u001b[39mcompute \u001b[38;5;241m=\u001b[39m orchestrators\u001b[38;5;241m.\u001b[39mget_asset_arm_id(\n\u001b[1;32m    244\u001b[0m             endpoint_resource\u001b[38;5;241m.\u001b[39mproperties\u001b[38;5;241m.\u001b[39mcompute,\n\u001b[1;32m    245\u001b[0m             azureml_type\u001b[38;5;241m=\u001b[39mAzureMLResourceType\u001b[38;5;241m.\u001b[39mCOMPUTE,\n\u001b[1;32m    246\u001b[0m         )\n\u001b[0;32m--> 247\u001b[0m     poller \u001b[38;5;241m=\u001b[39m \u001b[38;5;28;43mself\u001b[39;49m\u001b[38;5;241;43m.\u001b[39;49m\u001b[43m_online_operation\u001b[49m\u001b[38;5;241;43m.\u001b[39;49m\u001b[43mbegin_create_or_update\u001b[49m\u001b[43m(\u001b[49m\n\u001b[1;32m    248\u001b[0m \u001b[43m        \u001b[49m\u001b[43mresource_group_name\u001b[49m\u001b[38;5;241;43m=\u001b[39;49m\u001b[38;5;28;43mself\u001b[39;49m\u001b[38;5;241;43m.\u001b[39;49m\u001b[43m_resource_group_name\u001b[49m\u001b[43m,\u001b[49m\n\u001b[1;32m    249\u001b[0m \u001b[43m        \u001b[49m\u001b[43mworkspace_name\u001b[49m\u001b[38;5;241;43m=\u001b[39;49m\u001b[38;5;28;43mself\u001b[39;49m\u001b[38;5;241;43m.\u001b[39;49m\u001b[43m_workspace_name\u001b[49m\u001b[43m,\u001b[49m\n\u001b[1;32m    250\u001b[0m \u001b[43m        \u001b[49m\u001b[43mendpoint_name\u001b[49m\u001b[38;5;241;43m=\u001b[39;49m\u001b[43mendpoint\u001b[49m\u001b[38;5;241;43m.\u001b[39;49m\u001b[43mname\u001b[49m\u001b[43m,\u001b[49m\n\u001b[1;32m    251\u001b[0m \u001b[43m        \u001b[49m\u001b[43mbody\u001b[49m\u001b[38;5;241;43m=\u001b[39;49m\u001b[43mendpoint_resource\u001b[49m\u001b[43m,\u001b[49m\n\u001b[1;32m    252\u001b[0m \u001b[43m        \u001b[49m\u001b[38;5;28;43mcls\u001b[39;49m\u001b[38;5;241;43m=\u001b[39;49m\u001b[38;5;28;43;01mlambda\u001b[39;49;00m\u001b[43m \u001b[49m\u001b[43mresponse\u001b[49m\u001b[43m,\u001b[49m\u001b[43m \u001b[49m\u001b[43mdeserialized\u001b[49m\u001b[43m,\u001b[49m\u001b[43m \u001b[49m\u001b[43mheaders\u001b[49m\u001b[43m:\u001b[49m\u001b[43m \u001b[49m\u001b[43mOnlineEndpoint\u001b[49m\u001b[38;5;241;43m.\u001b[39;49m\u001b[43m_from_rest_object\u001b[49m\u001b[43m(\u001b[49m\u001b[43mdeserialized\u001b[49m\u001b[43m)\u001b[49m\u001b[43m,\u001b[49m\n\u001b[1;32m    253\u001b[0m \u001b[43m        \u001b[49m\u001b[38;5;241;43m*\u001b[39;49m\u001b[38;5;241;43m*\u001b[39;49m\u001b[38;5;28;43mself\u001b[39;49m\u001b[38;5;241;43m.\u001b[39;49m\u001b[43m_init_kwargs\u001b[49m\u001b[43m,\u001b[49m\n\u001b[1;32m    254\u001b[0m \u001b[43m    \u001b[49m\u001b[43m)\u001b[49m\n\u001b[1;32m    255\u001b[0m     \u001b[38;5;28;01mreturn\u001b[39;00m poller\n\u001b[1;32m    257\u001b[0m \u001b[38;5;28;01mexcept\u001b[39;00m \u001b[38;5;167;01mException\u001b[39;00m \u001b[38;5;28;01mas\u001b[39;00m ex:\n",
      "File \u001b[0;32m~/miniconda3/envs/h2o-mojo-env-v1/lib/python3.9/site-packages/azure/core/tracing/decorator.py:138\u001b[0m, in \u001b[0;36mdistributed_trace.<locals>.decorator.<locals>.wrapper_use_tracer\u001b[0;34m(*args, **kwargs)\u001b[0m\n\u001b[1;32m    136\u001b[0m             \u001b[38;5;28;01mfor\u001b[39;00m key, value \u001b[38;5;129;01min\u001b[39;00m span_attributes\u001b[38;5;241m.\u001b[39mitems():\n\u001b[1;32m    137\u001b[0m                 span\u001b[38;5;241m.\u001b[39madd_attribute(key, value)  \u001b[38;5;66;03m# type: ignore\u001b[39;00m\n\u001b[0;32m--> 138\u001b[0m             \u001b[38;5;28;01mreturn\u001b[39;00m \u001b[43mfunc\u001b[49m\u001b[43m(\u001b[49m\u001b[38;5;241;43m*\u001b[39;49m\u001b[43margs\u001b[49m\u001b[43m,\u001b[49m\u001b[43m \u001b[49m\u001b[38;5;241;43m*\u001b[39;49m\u001b[38;5;241;43m*\u001b[39;49m\u001b[43mkwargs\u001b[49m\u001b[43m)\u001b[49m\n\u001b[1;32m    139\u001b[0m \u001b[38;5;28;01melse\u001b[39;00m:\n\u001b[1;32m    140\u001b[0m     \u001b[38;5;66;03m# Native path\u001b[39;00m\n\u001b[1;32m    141\u001b[0m     config \u001b[38;5;241m=\u001b[39m {}\n",
      "File \u001b[0;32m~/miniconda3/envs/h2o-mojo-env-v1/lib/python3.9/site-packages/azure/ai/ml/_restclient/v2022_02_01_preview/operations/_online_endpoints_operations.py:921\u001b[0m, in \u001b[0;36mOnlineEndpointsOperations.begin_create_or_update\u001b[0;34m(self, resource_group_name, workspace_name, endpoint_name, body, **kwargs)\u001b[0m\n\u001b[1;32m    919\u001b[0m cont_token \u001b[38;5;241m=\u001b[39m kwargs\u001b[38;5;241m.\u001b[39mpop(\u001b[38;5;124m'\u001b[39m\u001b[38;5;124mcontinuation_token\u001b[39m\u001b[38;5;124m'\u001b[39m, \u001b[38;5;28;01mNone\u001b[39;00m)  \u001b[38;5;66;03m# type: Optional[str]\u001b[39;00m\n\u001b[1;32m    920\u001b[0m \u001b[38;5;28;01mif\u001b[39;00m cont_token \u001b[38;5;129;01mis\u001b[39;00m \u001b[38;5;28;01mNone\u001b[39;00m:\n\u001b[0;32m--> 921\u001b[0m     raw_result \u001b[38;5;241m=\u001b[39m \u001b[38;5;28;43mself\u001b[39;49m\u001b[38;5;241;43m.\u001b[39;49m\u001b[43m_create_or_update_initial\u001b[49m\u001b[43m(\u001b[49m\n\u001b[1;32m    922\u001b[0m \u001b[43m        \u001b[49m\u001b[43mresource_group_name\u001b[49m\u001b[38;5;241;43m=\u001b[39;49m\u001b[43mresource_group_name\u001b[49m\u001b[43m,\u001b[49m\n\u001b[1;32m    923\u001b[0m \u001b[43m        \u001b[49m\u001b[43mworkspace_name\u001b[49m\u001b[38;5;241;43m=\u001b[39;49m\u001b[43mworkspace_name\u001b[49m\u001b[43m,\u001b[49m\n\u001b[1;32m    924\u001b[0m \u001b[43m        \u001b[49m\u001b[43mendpoint_name\u001b[49m\u001b[38;5;241;43m=\u001b[39;49m\u001b[43mendpoint_name\u001b[49m\u001b[43m,\u001b[49m\n\u001b[1;32m    925\u001b[0m \u001b[43m        \u001b[49m\u001b[43mbody\u001b[49m\u001b[38;5;241;43m=\u001b[39;49m\u001b[43mbody\u001b[49m\u001b[43m,\u001b[49m\n\u001b[1;32m    926\u001b[0m \u001b[43m        \u001b[49m\u001b[43mcontent_type\u001b[49m\u001b[38;5;241;43m=\u001b[39;49m\u001b[43mcontent_type\u001b[49m\u001b[43m,\u001b[49m\n\u001b[1;32m    927\u001b[0m \u001b[43m        \u001b[49m\u001b[38;5;28;43mcls\u001b[39;49m\u001b[38;5;241;43m=\u001b[39;49m\u001b[38;5;28;43;01mlambda\u001b[39;49;00m\u001b[43m \u001b[49m\u001b[43mx\u001b[49m\u001b[43m,\u001b[49m\u001b[43my\u001b[49m\u001b[43m,\u001b[49m\u001b[43mz\u001b[49m\u001b[43m:\u001b[49m\u001b[43m \u001b[49m\u001b[43mx\u001b[49m\u001b[43m,\u001b[49m\n\u001b[1;32m    928\u001b[0m \u001b[43m        \u001b[49m\u001b[38;5;241;43m*\u001b[39;49m\u001b[38;5;241;43m*\u001b[39;49m\u001b[43mkwargs\u001b[49m\n\u001b[1;32m    929\u001b[0m \u001b[43m    \u001b[49m\u001b[43m)\u001b[49m\n\u001b[1;32m    930\u001b[0m kwargs\u001b[38;5;241m.\u001b[39mpop(\u001b[38;5;124m'\u001b[39m\u001b[38;5;124merror_map\u001b[39m\u001b[38;5;124m'\u001b[39m, \u001b[38;5;28;01mNone\u001b[39;00m)\n\u001b[1;32m    932\u001b[0m \u001b[38;5;28;01mdef\u001b[39;00m \u001b[38;5;21mget_long_running_output\u001b[39m(pipeline_response):\n",
      "File \u001b[0;32m~/miniconda3/envs/h2o-mojo-env-v1/lib/python3.9/site-packages/azure/ai/ml/_restclient/v2022_02_01_preview/operations/_online_endpoints_operations.py:856\u001b[0m, in \u001b[0;36mOnlineEndpointsOperations._create_or_update_initial\u001b[0;34m(self, resource_group_name, workspace_name, endpoint_name, body, **kwargs)\u001b[0m\n\u001b[1;32m    854\u001b[0m \u001b[38;5;28;01mif\u001b[39;00m response\u001b[38;5;241m.\u001b[39mstatus_code \u001b[38;5;129;01mnot\u001b[39;00m \u001b[38;5;129;01min\u001b[39;00m [\u001b[38;5;241m200\u001b[39m, \u001b[38;5;241m201\u001b[39m]:\n\u001b[1;32m    855\u001b[0m     map_error(status_code\u001b[38;5;241m=\u001b[39mresponse\u001b[38;5;241m.\u001b[39mstatus_code, response\u001b[38;5;241m=\u001b[39mresponse, error_map\u001b[38;5;241m=\u001b[39merror_map)\n\u001b[0;32m--> 856\u001b[0m     \u001b[38;5;28;01mraise\u001b[39;00m HttpResponseError(response\u001b[38;5;241m=\u001b[39mresponse, error_format\u001b[38;5;241m=\u001b[39mARMErrorFormat)\n\u001b[1;32m    858\u001b[0m response_headers \u001b[38;5;241m=\u001b[39m {}\n\u001b[1;32m    859\u001b[0m \u001b[38;5;28;01mif\u001b[39;00m response\u001b[38;5;241m.\u001b[39mstatus_code \u001b[38;5;241m==\u001b[39m \u001b[38;5;241m200\u001b[39m:\n",
      "\u001b[0;31mHttpResponseError\u001b[0m: (BadRequest) The request is invalid.\nCode: BadRequest\nMessage: The request is invalid.\nException Details:\t(InferencingClientCallFailed) {\"error\":{\"code\":\"Validation\",\"message\":\"{\\\"errors\\\":{\\\"\\\":[\\\"Specified endpoint [iat-endpiont-v3] is in deleting provisioning state.\\\"]},\\\"type\\\":\\\"https://tools.ietf.org/html/rfc9110#section-15.5.1\\\",\\\"title\\\":\\\"One or more validation errors occurred.\\\",\\\"status\\\":400,\\\"traceId\\\":\\\"00-5c965dcbdf34abb4d2d71f56d37abc61-4241d44a6ce94ad2-01\\\"}\"}}\n\tCode: InferencingClientCallFailed\n\tMessage: {\"error\":{\"code\":\"Validation\",\"message\":\"{\\\"errors\\\":{\\\"\\\":[\\\"Specified endpoint [iat-endpiont-v3] is in deleting provisioning state.\\\"]},\\\"type\\\":\\\"https://tools.ietf.org/html/rfc9110#section-15.5.1\\\",\\\"title\\\":\\\"One or more validation errors occurred.\\\",\\\"status\\\":400,\\\"traceId\\\":\\\"00-5c965dcbdf34abb4d2d71f56d37abc61-4241d44a6ce94ad2-01\\\"}\"}}\nAdditional Information:Type: ComponentName\nInfo: {\n    \"value\": \"managementfrontend\"\n}Type: Correlation\nInfo: {\n    \"value\": {\n        \"operation\": \"5c965dcbdf34abb4d2d71f56d37abc61\",\n        \"request\": \"a89dfa7877897903\"\n    }\n}Type: Environment\nInfo: {\n    \"value\": \"centralindia\"\n}Type: Location\nInfo: {\n    \"value\": \"centralindia\"\n}Type: Time\nInfo: {\n    \"value\": \"2025-06-13T10:01:28.4683272+00:00\"\n}"
     ]
    }
   ],
   "source": [
    "from azure.ai.ml.entities import (\n",
    "    ManagedOnlineEndpoint,\n",
    "    ManagedOnlineDeployment,\n",
    "    Model,\n",
    "    Environment,\n",
    ")\n",
    "\n",
    "# create an online endpoint\n",
    "endpoint = ManagedOnlineEndpoint(\n",
    "    name=online_endpoint_name,\n",
    "    description=\"this is an online endpoint\",\n",
    "    auth_mode=\"key\",\n",
    "    tags={\n",
    "        \"training_dataset\": \"credit_defaults\",\n",
    "        \"model_type\": \"sklearn.GradientBoostingClassifier\",\n",
    "    },\n",
    ")\n",
    "\n",
    "endpoint_result = ml_client.begin_create_or_update(endpoint).result()\n",
    "\n",
    "print(\n",
    "    f\"Endpint {endpoint_result.name} provisioning state: {endpoint_result.provisioning_state}\"\n",
    ")"
   ]
  },
  {
   "cell_type": "code",
   "execution_count": 6,
   "metadata": {},
   "outputs": [
    {
     "name": "stdout",
     "output_type": "stream",
     "text": [
      "Endpint \"shafi\" with provisioning state \"Succeeded\" is retrieved\n"
     ]
    }
   ],
   "source": [
    "endpoint = ml_client.online_endpoints.get(name=online_endpoint_name)\n",
    "\n",
    "print(\n",
    "    f'Endpint \"{endpoint.name}\" with provisioning state \"{endpoint.provisioning_state}\" is retrieved'\n",
    ")"
   ]
  },
  {
   "cell_type": "code",
   "execution_count": 28,
   "metadata": {},
   "outputs": [
    {
     "name": "stderr",
     "output_type": "stream",
     "text": [
      "Invalid type NoneType for attribute 'resource_group_name' value. Expected one of ['bool', 'str', 'bytes', 'int', 'float'] or a sequence of those types\n",
      "Invalid type NoneType for attribute 'resource_group_name' value. Expected one of ['bool', 'str', 'bytes', 'int', 'float'] or a sequence of those types\n"
     ]
    }
   ],
   "source": [
    "from azure.ai.ml.entities import Model\n",
    "\n",
    "\n",
    "model = ml_client.models.get(name=\"h2o-model\", version=\"1\")"
   ]
  },
  {
   "cell_type": "code",
   "execution_count": 30,
   "metadata": {},
   "outputs": [],
   "source": [
    "\n",
    "from azure.ai.ml.entities import (\n",
    "    ManagedOnlineDeployment,\n",
    "    Environment,\n",
    "    CodeConfiguration\n",
    ")\n",
    "code_config = CodeConfiguration(\n",
    "    code=\".\",              # Folder containing score.py\n",
    "    scoring_script=\"score.py\"  # Your scoring script\n",
    ")\n",
    "\n",
    "# Step 3: Attach environment and code config to deployment\n",
    "blue_deployment = ManagedOnlineDeployment(\n",
    "    name=\"blue\",\n",
    "    endpoint_name=online_endpoint_name,\n",
    "    model=model,\n",
    "    environment=\"h2o-env:3\",\n",
    "    code_configuration=code_config,\n",
    "    instance_type=\"Standard_E2s_v3\",\n",
    "    instance_count=1,\n",
    ")"
   ]
  },
  {
   "cell_type": "code",
   "execution_count": 33,
   "metadata": {},
   "outputs": [
    {
     "name": "stderr",
     "output_type": "stream",
     "text": [
      "Invalid type NoneType for attribute 'resource_group_name' value. Expected one of ['bool', 'str', 'bytes', 'int', 'float'] or a sequence of those types\n",
      "Check: endpoint iat-endpiont-v3 exists\n",
      "Invalid type NoneType for attribute 'resource_group_name' value. Expected one of ['bool', 'str', 'bytes', 'int', 'float'] or a sequence of those types\n",
      "Invalid type NoneType for attribute 'resource_group_name' value. Expected one of ['bool', 'str', 'bytes', 'int', 'float'] or a sequence of those types\n",
      "Invalid type NoneType for attribute 'resource_group_name' value. Expected one of ['bool', 'str', 'bytes', 'int', 'float'] or a sequence of those types\n"
     ]
    },
    {
     "ename": "HttpResponseError",
     "evalue": "(BadRequest) The request is invalid.\nCode: BadRequest\nMessage: The request is invalid.\nException Details:\t(InferencingClientCallFailed) {\"error\":{\"code\":\"Validation\",\"message\":\"{\\\"errors\\\":{\\\"VmSize\\\":[\\\"Not enough quota available for Standard_E2s_v3 in SubscriptionId 6bd1f99e-e7cb-4226-b9d5-09433d793bda. Current usage/limit: 0/0. Additional needed: 4 Please see troubleshooting guide, available here: https://aka.ms/oe-tsg#error-outofquota\\\"]},\\\"type\\\":\\\"https://tools.ietf.org/html/rfc9110#section-15.5.1\\\",\\\"title\\\":\\\"One or more validation errors occurred.\\\",\\\"status\\\":400,\\\"traceId\\\":\\\"00-3048b1205a0def7efb9c42e11c7f67c0-db5b0c176d3799b7-01\\\"}\"}}\n\tCode: InferencingClientCallFailed\n\tMessage: {\"error\":{\"code\":\"Validation\",\"message\":\"{\\\"errors\\\":{\\\"VmSize\\\":[\\\"Not enough quota available for Standard_E2s_v3 in SubscriptionId 6bd1f99e-e7cb-4226-b9d5-09433d793bda. Current usage/limit: 0/0. Additional needed: 4 Please see troubleshooting guide, available here: https://aka.ms/oe-tsg#error-outofquota\\\"]},\\\"type\\\":\\\"https://tools.ietf.org/html/rfc9110#section-15.5.1\\\",\\\"title\\\":\\\"One or more validation errors occurred.\\\",\\\"status\\\":400,\\\"traceId\\\":\\\"00-3048b1205a0def7efb9c42e11c7f67c0-db5b0c176d3799b7-01\\\"}\"}}\nAdditional Information:Type: ComponentName\nInfo: {\n    \"value\": \"managementfrontend\"\n}Type: Correlation\nInfo: {\n    \"value\": {\n        \"operation\": \"3048b1205a0def7efb9c42e11c7f67c0\",\n        \"request\": \"70ac8830bd68206f\"\n    }\n}Type: Environment\nInfo: {\n    \"value\": \"centralindia\"\n}Type: Location\nInfo: {\n    \"value\": \"centralindia\"\n}Type: Time\nInfo: {\n    \"value\": \"2025-06-10T07:41:54.9830678+00:00\"\n}",
     "output_type": "error",
     "traceback": [
      "\u001b[0;31m---------------------------------------------------------------------------\u001b[0m",
      "\u001b[0;31mHttpResponseError\u001b[0m                         Traceback (most recent call last)",
      "Cell \u001b[0;32mIn[33], line 2\u001b[0m\n\u001b[1;32m      1\u001b[0m \u001b[38;5;66;03m# Create the deployment\u001b[39;00m\n\u001b[0;32m----> 2\u001b[0m blue_deployment_results \u001b[38;5;241m=\u001b[39m \u001b[43mml_client\u001b[49m\u001b[38;5;241;43m.\u001b[39;49m\u001b[43monline_deployments\u001b[49m\u001b[38;5;241;43m.\u001b[39;49m\u001b[43mbegin_create_or_update\u001b[49m\u001b[43m(\u001b[49m\n\u001b[1;32m      3\u001b[0m \u001b[43m    \u001b[49m\u001b[43mblue_deployment\u001b[49m\n\u001b[1;32m      4\u001b[0m \u001b[43m)\u001b[49m\u001b[38;5;241m.\u001b[39mresult()\n\u001b[1;32m      6\u001b[0m \u001b[38;5;28mprint\u001b[39m(\u001b[38;5;124mf\u001b[39m\u001b[38;5;124m\"\u001b[39m\u001b[38;5;124mDeployment state: \u001b[39m\u001b[38;5;132;01m{\u001b[39;00mblue_deployment_results\u001b[38;5;241m.\u001b[39mprovisioning_state\u001b[38;5;132;01m}\u001b[39;00m\u001b[38;5;124m\"\u001b[39m)\n",
      "File \u001b[0;32m~/miniconda3/envs/h2o-mojo-env-v1/lib/python3.9/site-packages/azure/core/tracing/decorator.py:138\u001b[0m, in \u001b[0;36mdistributed_trace.<locals>.decorator.<locals>.wrapper_use_tracer\u001b[0;34m(*args, **kwargs)\u001b[0m\n\u001b[1;32m    136\u001b[0m             \u001b[38;5;28;01mfor\u001b[39;00m key, value \u001b[38;5;129;01min\u001b[39;00m span_attributes\u001b[38;5;241m.\u001b[39mitems():\n\u001b[1;32m    137\u001b[0m                 span\u001b[38;5;241m.\u001b[39madd_attribute(key, value)  \u001b[38;5;66;03m# type: ignore\u001b[39;00m\n\u001b[0;32m--> 138\u001b[0m             \u001b[38;5;28;01mreturn\u001b[39;00m \u001b[43mfunc\u001b[49m\u001b[43m(\u001b[49m\u001b[38;5;241;43m*\u001b[39;49m\u001b[43margs\u001b[49m\u001b[43m,\u001b[49m\u001b[43m \u001b[49m\u001b[38;5;241;43m*\u001b[39;49m\u001b[38;5;241;43m*\u001b[39;49m\u001b[43mkwargs\u001b[49m\u001b[43m)\u001b[49m\n\u001b[1;32m    139\u001b[0m \u001b[38;5;28;01melse\u001b[39;00m:\n\u001b[1;32m    140\u001b[0m     \u001b[38;5;66;03m# Native path\u001b[39;00m\n\u001b[1;32m    141\u001b[0m     config \u001b[38;5;241m=\u001b[39m {}\n",
      "File \u001b[0;32m~/miniconda3/envs/h2o-mojo-env-v1/lib/python3.9/site-packages/azure/ai/ml/_telemetry/activity.py:288\u001b[0m, in \u001b[0;36mmonitor_with_activity.<locals>.monitor.<locals>.wrapper\u001b[0;34m(*args, **kwargs)\u001b[0m\n\u001b[1;32m    284\u001b[0m     \u001b[38;5;28;01mwith\u001b[39;00m tracer\u001b[38;5;241m.\u001b[39mstart_as_current_span(ACTIVITY_SPAN):\n\u001b[1;32m    285\u001b[0m         \u001b[38;5;28;01mwith\u001b[39;00m log_activity(\n\u001b[1;32m    286\u001b[0m             logger\u001b[38;5;241m.\u001b[39mpackage_logger, activity_name \u001b[38;5;129;01mor\u001b[39;00m f\u001b[38;5;241m.\u001b[39m\u001b[38;5;18m__name__\u001b[39m, activity_type, custom_dimensions\n\u001b[1;32m    287\u001b[0m         ):\n\u001b[0;32m--> 288\u001b[0m             \u001b[38;5;28;01mreturn\u001b[39;00m \u001b[43mf\u001b[49m\u001b[43m(\u001b[49m\u001b[38;5;241;43m*\u001b[39;49m\u001b[43margs\u001b[49m\u001b[43m,\u001b[49m\u001b[43m \u001b[49m\u001b[38;5;241;43m*\u001b[39;49m\u001b[38;5;241;43m*\u001b[39;49m\u001b[43mkwargs\u001b[49m\u001b[43m)\u001b[49m\n\u001b[1;32m    289\u001b[0m \u001b[38;5;28;01melif\u001b[39;00m \u001b[38;5;28mhasattr\u001b[39m(logger, \u001b[38;5;124m\"\u001b[39m\u001b[38;5;124mpackage_logger\u001b[39m\u001b[38;5;124m\"\u001b[39m):\n\u001b[1;32m    290\u001b[0m     \u001b[38;5;28;01mwith\u001b[39;00m log_activity(logger\u001b[38;5;241m.\u001b[39mpackage_logger, activity_name \u001b[38;5;129;01mor\u001b[39;00m f\u001b[38;5;241m.\u001b[39m\u001b[38;5;18m__name__\u001b[39m, activity_type, custom_dimensions):\n",
      "File \u001b[0;32m~/miniconda3/envs/h2o-mojo-env-v1/lib/python3.9/site-packages/azure/ai/ml/operations/_online_deployment_operations.py:218\u001b[0m, in \u001b[0;36mOnlineDeploymentOperations.begin_create_or_update\u001b[0;34m(self, deployment, local, vscode_debug, skip_script_validation, local_enable_gpu, **kwargs)\u001b[0m\n\u001b[1;32m    216\u001b[0m     log_and_raise_error(ex)\n\u001b[1;32m    217\u001b[0m \u001b[38;5;28;01melse\u001b[39;00m:\n\u001b[0;32m--> 218\u001b[0m     \u001b[38;5;28;01mraise\u001b[39;00m ex\n",
      "File \u001b[0;32m~/miniconda3/envs/h2o-mojo-env-v1/lib/python3.9/site-packages/azure/ai/ml/operations/_online_deployment_operations.py:213\u001b[0m, in \u001b[0;36mOnlineDeploymentOperations.begin_create_or_update\u001b[0;34m(self, deployment, local, vscode_debug, skip_script_validation, local_enable_gpu, **kwargs)\u001b[0m\n\u001b[1;32m    211\u001b[0m         \u001b[38;5;28;01mreturn\u001b[39;00m poller\n\u001b[1;32m    212\u001b[0m     \u001b[38;5;28;01mexcept\u001b[39;00m \u001b[38;5;167;01mException\u001b[39;00m \u001b[38;5;28;01mas\u001b[39;00m ex:\n\u001b[0;32m--> 213\u001b[0m         \u001b[38;5;28;01mraise\u001b[39;00m ex\n\u001b[1;32m    214\u001b[0m \u001b[38;5;28;01mexcept\u001b[39;00m \u001b[38;5;167;01mException\u001b[39;00m \u001b[38;5;28;01mas\u001b[39;00m ex:  \u001b[38;5;66;03m# pylint: disable=W0718\u001b[39;00m\n\u001b[1;32m    215\u001b[0m     \u001b[38;5;28;01mif\u001b[39;00m \u001b[38;5;28misinstance\u001b[39m(ex, (ValidationException, SchemaValidationError)):\n",
      "File \u001b[0;32m~/miniconda3/envs/h2o-mojo-env-v1/lib/python3.9/site-packages/azure/ai/ml/operations/_online_deployment_operations.py:196\u001b[0m, in \u001b[0;36mOnlineDeploymentOperations.begin_create_or_update\u001b[0;34m(self, deployment, local, vscode_debug, skip_script_validation, local_enable_gpu, **kwargs)\u001b[0m\n\u001b[1;32m    192\u001b[0m         module_logger\u001b[38;5;241m.\u001b[39minfo(\u001b[38;5;124m\"\u001b[39m\u001b[38;5;130;01m\\n\u001b[39;00m\u001b[38;5;124mStarting deployment\u001b[39m\u001b[38;5;124m\"\u001b[39m)\n\u001b[1;32m    194\u001b[0m     deployment_rest \u001b[38;5;241m=\u001b[39m deployment\u001b[38;5;241m.\u001b[39m_to_rest_object(location\u001b[38;5;241m=\u001b[39mlocation)  \u001b[38;5;66;03m# type: ignore\u001b[39;00m\n\u001b[0;32m--> 196\u001b[0m     poller \u001b[38;5;241m=\u001b[39m \u001b[38;5;28;43mself\u001b[39;49m\u001b[38;5;241;43m.\u001b[39;49m\u001b[43m_online_deployment\u001b[49m\u001b[38;5;241;43m.\u001b[39;49m\u001b[43mbegin_create_or_update\u001b[49m\u001b[43m(\u001b[49m\n\u001b[1;32m    197\u001b[0m \u001b[43m        \u001b[49m\u001b[43mresource_group_name\u001b[49m\u001b[38;5;241;43m=\u001b[39;49m\u001b[38;5;28;43mself\u001b[39;49m\u001b[38;5;241;43m.\u001b[39;49m\u001b[43m_resource_group_name\u001b[49m\u001b[43m,\u001b[49m\n\u001b[1;32m    198\u001b[0m \u001b[43m        \u001b[49m\u001b[43mworkspace_name\u001b[49m\u001b[38;5;241;43m=\u001b[39;49m\u001b[38;5;28;43mself\u001b[39;49m\u001b[38;5;241;43m.\u001b[39;49m\u001b[43m_workspace_name\u001b[49m\u001b[43m,\u001b[49m\n\u001b[1;32m    199\u001b[0m \u001b[43m        \u001b[49m\u001b[43mendpoint_name\u001b[49m\u001b[38;5;241;43m=\u001b[39;49m\u001b[43mdeployment\u001b[49m\u001b[38;5;241;43m.\u001b[39;49m\u001b[43mendpoint_name\u001b[49m\u001b[43m,\u001b[49m\n\u001b[1;32m    200\u001b[0m \u001b[43m        \u001b[49m\u001b[43mdeployment_name\u001b[49m\u001b[38;5;241;43m=\u001b[39;49m\u001b[43mdeployment\u001b[49m\u001b[38;5;241;43m.\u001b[39;49m\u001b[43mname\u001b[49m\u001b[43m,\u001b[49m\n\u001b[1;32m    201\u001b[0m \u001b[43m        \u001b[49m\u001b[43mbody\u001b[49m\u001b[38;5;241;43m=\u001b[39;49m\u001b[43mdeployment_rest\u001b[49m\u001b[43m,\u001b[49m\n\u001b[1;32m    202\u001b[0m \u001b[43m        \u001b[49m\u001b[43mpolling\u001b[49m\u001b[38;5;241;43m=\u001b[39;49m\u001b[43mAzureMLPolling\u001b[49m\u001b[43m(\u001b[49m\n\u001b[1;32m    203\u001b[0m \u001b[43m            \u001b[49m\u001b[43mLROConfigurations\u001b[49m\u001b[38;5;241;43m.\u001b[39;49m\u001b[43mPOLL_INTERVAL\u001b[49m\u001b[43m,\u001b[49m\n\u001b[1;32m    204\u001b[0m \u001b[43m            \u001b[49m\u001b[43mpath_format_arguments\u001b[49m\u001b[38;5;241;43m=\u001b[39;49m\u001b[43mpath_format_arguments\u001b[49m\u001b[43m,\u001b[49m\n\u001b[1;32m    205\u001b[0m \u001b[43m            \u001b[49m\u001b[38;5;241;43m*\u001b[39;49m\u001b[38;5;241;43m*\u001b[39;49m\u001b[38;5;28;43mself\u001b[39;49m\u001b[38;5;241;43m.\u001b[39;49m\u001b[43m_init_kwargs\u001b[49m\u001b[43m,\u001b[49m\n\u001b[1;32m    206\u001b[0m \u001b[43m        \u001b[49m\u001b[43m)\u001b[49m\u001b[43m,\u001b[49m\n\u001b[1;32m    207\u001b[0m \u001b[43m        \u001b[49m\u001b[43mpolling_interval\u001b[49m\u001b[38;5;241;43m=\u001b[39;49m\u001b[43mLROConfigurations\u001b[49m\u001b[38;5;241;43m.\u001b[39;49m\u001b[43mPOLL_INTERVAL\u001b[49m\u001b[43m,\u001b[49m\n\u001b[1;32m    208\u001b[0m \u001b[43m        \u001b[49m\u001b[38;5;241;43m*\u001b[39;49m\u001b[38;5;241;43m*\u001b[39;49m\u001b[38;5;28;43mself\u001b[39;49m\u001b[38;5;241;43m.\u001b[39;49m\u001b[43m_init_kwargs\u001b[49m\u001b[43m,\u001b[49m\n\u001b[1;32m    209\u001b[0m \u001b[43m        \u001b[49m\u001b[38;5;28;43mcls\u001b[39;49m\u001b[38;5;241;43m=\u001b[39;49m\u001b[38;5;28;43;01mlambda\u001b[39;49;00m\u001b[43m \u001b[49m\u001b[43mresponse\u001b[49m\u001b[43m,\u001b[49m\u001b[43m \u001b[49m\u001b[43mdeserialized\u001b[49m\u001b[43m,\u001b[49m\u001b[43m \u001b[49m\u001b[43mheaders\u001b[49m\u001b[43m:\u001b[49m\u001b[43m \u001b[49m\u001b[43mOnlineDeployment\u001b[49m\u001b[38;5;241;43m.\u001b[39;49m\u001b[43m_from_rest_object\u001b[49m\u001b[43m(\u001b[49m\u001b[43mdeserialized\u001b[49m\u001b[43m)\u001b[49m\u001b[43m,\u001b[49m\n\u001b[1;32m    210\u001b[0m \u001b[43m    \u001b[49m\u001b[43m)\u001b[49m\n\u001b[1;32m    211\u001b[0m     \u001b[38;5;28;01mreturn\u001b[39;00m poller\n\u001b[1;32m    212\u001b[0m \u001b[38;5;28;01mexcept\u001b[39;00m \u001b[38;5;167;01mException\u001b[39;00m \u001b[38;5;28;01mas\u001b[39;00m ex:\n",
      "File \u001b[0;32m~/miniconda3/envs/h2o-mojo-env-v1/lib/python3.9/site-packages/azure/core/tracing/decorator.py:138\u001b[0m, in \u001b[0;36mdistributed_trace.<locals>.decorator.<locals>.wrapper_use_tracer\u001b[0;34m(*args, **kwargs)\u001b[0m\n\u001b[1;32m    136\u001b[0m             \u001b[38;5;28;01mfor\u001b[39;00m key, value \u001b[38;5;129;01min\u001b[39;00m span_attributes\u001b[38;5;241m.\u001b[39mitems():\n\u001b[1;32m    137\u001b[0m                 span\u001b[38;5;241m.\u001b[39madd_attribute(key, value)  \u001b[38;5;66;03m# type: ignore\u001b[39;00m\n\u001b[0;32m--> 138\u001b[0m             \u001b[38;5;28;01mreturn\u001b[39;00m \u001b[43mfunc\u001b[49m\u001b[43m(\u001b[49m\u001b[38;5;241;43m*\u001b[39;49m\u001b[43margs\u001b[49m\u001b[43m,\u001b[49m\u001b[43m \u001b[49m\u001b[38;5;241;43m*\u001b[39;49m\u001b[38;5;241;43m*\u001b[39;49m\u001b[43mkwargs\u001b[49m\u001b[43m)\u001b[49m\n\u001b[1;32m    139\u001b[0m \u001b[38;5;28;01melse\u001b[39;00m:\n\u001b[1;32m    140\u001b[0m     \u001b[38;5;66;03m# Native path\u001b[39;00m\n\u001b[1;32m    141\u001b[0m     config \u001b[38;5;241m=\u001b[39m {}\n",
      "File \u001b[0;32m~/miniconda3/envs/h2o-mojo-env-v1/lib/python3.9/site-packages/azure/ai/ml/_restclient/v2023_04_01_preview/operations/_online_deployments_operations.py:933\u001b[0m, in \u001b[0;36mOnlineDeploymentsOperations.begin_create_or_update\u001b[0;34m(self, resource_group_name, workspace_name, endpoint_name, deployment_name, body, **kwargs)\u001b[0m\n\u001b[1;32m    931\u001b[0m cont_token \u001b[38;5;241m=\u001b[39m kwargs\u001b[38;5;241m.\u001b[39mpop(\u001b[38;5;124m'\u001b[39m\u001b[38;5;124mcontinuation_token\u001b[39m\u001b[38;5;124m'\u001b[39m, \u001b[38;5;28;01mNone\u001b[39;00m)  \u001b[38;5;66;03m# type: Optional[str]\u001b[39;00m\n\u001b[1;32m    932\u001b[0m \u001b[38;5;28;01mif\u001b[39;00m cont_token \u001b[38;5;129;01mis\u001b[39;00m \u001b[38;5;28;01mNone\u001b[39;00m:\n\u001b[0;32m--> 933\u001b[0m     raw_result \u001b[38;5;241m=\u001b[39m \u001b[38;5;28;43mself\u001b[39;49m\u001b[38;5;241;43m.\u001b[39;49m\u001b[43m_create_or_update_initial\u001b[49m\u001b[43m(\u001b[49m\n\u001b[1;32m    934\u001b[0m \u001b[43m        \u001b[49m\u001b[43mresource_group_name\u001b[49m\u001b[38;5;241;43m=\u001b[39;49m\u001b[43mresource_group_name\u001b[49m\u001b[43m,\u001b[49m\n\u001b[1;32m    935\u001b[0m \u001b[43m        \u001b[49m\u001b[43mworkspace_name\u001b[49m\u001b[38;5;241;43m=\u001b[39;49m\u001b[43mworkspace_name\u001b[49m\u001b[43m,\u001b[49m\n\u001b[1;32m    936\u001b[0m \u001b[43m        \u001b[49m\u001b[43mendpoint_name\u001b[49m\u001b[38;5;241;43m=\u001b[39;49m\u001b[43mendpoint_name\u001b[49m\u001b[43m,\u001b[49m\n\u001b[1;32m    937\u001b[0m \u001b[43m        \u001b[49m\u001b[43mdeployment_name\u001b[49m\u001b[38;5;241;43m=\u001b[39;49m\u001b[43mdeployment_name\u001b[49m\u001b[43m,\u001b[49m\n\u001b[1;32m    938\u001b[0m \u001b[43m        \u001b[49m\u001b[43mbody\u001b[49m\u001b[38;5;241;43m=\u001b[39;49m\u001b[43mbody\u001b[49m\u001b[43m,\u001b[49m\n\u001b[1;32m    939\u001b[0m \u001b[43m        \u001b[49m\u001b[43mapi_version\u001b[49m\u001b[38;5;241;43m=\u001b[39;49m\u001b[43mapi_version\u001b[49m\u001b[43m,\u001b[49m\n\u001b[1;32m    940\u001b[0m \u001b[43m        \u001b[49m\u001b[43mcontent_type\u001b[49m\u001b[38;5;241;43m=\u001b[39;49m\u001b[43mcontent_type\u001b[49m\u001b[43m,\u001b[49m\n\u001b[1;32m    941\u001b[0m \u001b[43m        \u001b[49m\u001b[38;5;28;43mcls\u001b[39;49m\u001b[38;5;241;43m=\u001b[39;49m\u001b[38;5;28;43;01mlambda\u001b[39;49;00m\u001b[43m \u001b[49m\u001b[43mx\u001b[49m\u001b[43m,\u001b[49m\u001b[43my\u001b[49m\u001b[43m,\u001b[49m\u001b[43mz\u001b[49m\u001b[43m:\u001b[49m\u001b[43m \u001b[49m\u001b[43mx\u001b[49m\u001b[43m,\u001b[49m\n\u001b[1;32m    942\u001b[0m \u001b[43m        \u001b[49m\u001b[38;5;241;43m*\u001b[39;49m\u001b[38;5;241;43m*\u001b[39;49m\u001b[43mkwargs\u001b[49m\n\u001b[1;32m    943\u001b[0m \u001b[43m    \u001b[49m\u001b[43m)\u001b[49m\n\u001b[1;32m    944\u001b[0m kwargs\u001b[38;5;241m.\u001b[39mpop(\u001b[38;5;124m'\u001b[39m\u001b[38;5;124merror_map\u001b[39m\u001b[38;5;124m'\u001b[39m, \u001b[38;5;28;01mNone\u001b[39;00m)\n\u001b[1;32m    946\u001b[0m \u001b[38;5;28;01mdef\u001b[39;00m \u001b[38;5;21mget_long_running_output\u001b[39m(pipeline_response):\n",
      "File \u001b[0;32m~/miniconda3/envs/h2o-mojo-env-v1/lib/python3.9/site-packages/azure/ai/ml/_restclient/v2023_04_01_preview/operations/_online_deployments_operations.py:864\u001b[0m, in \u001b[0;36mOnlineDeploymentsOperations._create_or_update_initial\u001b[0;34m(self, resource_group_name, workspace_name, endpoint_name, deployment_name, body, **kwargs)\u001b[0m\n\u001b[1;32m    862\u001b[0m \u001b[38;5;28;01mif\u001b[39;00m response\u001b[38;5;241m.\u001b[39mstatus_code \u001b[38;5;129;01mnot\u001b[39;00m \u001b[38;5;129;01min\u001b[39;00m [\u001b[38;5;241m200\u001b[39m, \u001b[38;5;241m201\u001b[39m]:\n\u001b[1;32m    863\u001b[0m     map_error(status_code\u001b[38;5;241m=\u001b[39mresponse\u001b[38;5;241m.\u001b[39mstatus_code, response\u001b[38;5;241m=\u001b[39mresponse, error_map\u001b[38;5;241m=\u001b[39merror_map)\n\u001b[0;32m--> 864\u001b[0m     \u001b[38;5;28;01mraise\u001b[39;00m HttpResponseError(response\u001b[38;5;241m=\u001b[39mresponse, error_format\u001b[38;5;241m=\u001b[39mARMErrorFormat)\n\u001b[1;32m    866\u001b[0m response_headers \u001b[38;5;241m=\u001b[39m {}\n\u001b[1;32m    867\u001b[0m \u001b[38;5;28;01mif\u001b[39;00m response\u001b[38;5;241m.\u001b[39mstatus_code \u001b[38;5;241m==\u001b[39m \u001b[38;5;241m200\u001b[39m:\n",
      "\u001b[0;31mHttpResponseError\u001b[0m: (BadRequest) The request is invalid.\nCode: BadRequest\nMessage: The request is invalid.\nException Details:\t(InferencingClientCallFailed) {\"error\":{\"code\":\"Validation\",\"message\":\"{\\\"errors\\\":{\\\"VmSize\\\":[\\\"Not enough quota available for Standard_E2s_v3 in SubscriptionId 6bd1f99e-e7cb-4226-b9d5-09433d793bda. Current usage/limit: 0/0. Additional needed: 4 Please see troubleshooting guide, available here: https://aka.ms/oe-tsg#error-outofquota\\\"]},\\\"type\\\":\\\"https://tools.ietf.org/html/rfc9110#section-15.5.1\\\",\\\"title\\\":\\\"One or more validation errors occurred.\\\",\\\"status\\\":400,\\\"traceId\\\":\\\"00-3048b1205a0def7efb9c42e11c7f67c0-db5b0c176d3799b7-01\\\"}\"}}\n\tCode: InferencingClientCallFailed\n\tMessage: {\"error\":{\"code\":\"Validation\",\"message\":\"{\\\"errors\\\":{\\\"VmSize\\\":[\\\"Not enough quota available for Standard_E2s_v3 in SubscriptionId 6bd1f99e-e7cb-4226-b9d5-09433d793bda. Current usage/limit: 0/0. Additional needed: 4 Please see troubleshooting guide, available here: https://aka.ms/oe-tsg#error-outofquota\\\"]},\\\"type\\\":\\\"https://tools.ietf.org/html/rfc9110#section-15.5.1\\\",\\\"title\\\":\\\"One or more validation errors occurred.\\\",\\\"status\\\":400,\\\"traceId\\\":\\\"00-3048b1205a0def7efb9c42e11c7f67c0-db5b0c176d3799b7-01\\\"}\"}}\nAdditional Information:Type: ComponentName\nInfo: {\n    \"value\": \"managementfrontend\"\n}Type: Correlation\nInfo: {\n    \"value\": {\n        \"operation\": \"3048b1205a0def7efb9c42e11c7f67c0\",\n        \"request\": \"70ac8830bd68206f\"\n    }\n}Type: Environment\nInfo: {\n    \"value\": \"centralindia\"\n}Type: Location\nInfo: {\n    \"value\": \"centralindia\"\n}Type: Time\nInfo: {\n    \"value\": \"2025-06-10T07:41:54.9830678+00:00\"\n}"
     ]
    }
   ],
   "source": [
    "# Create the deployment\n",
    "blue_deployment_results = ml_client.online_deployments.begin_create_or_update(\n",
    "    blue_deployment\n",
    ").result()\n",
    "\n",
    "print(f\"Deployment state: {blue_deployment_results.provisioning_state}\")"
   ]
  },
  {
   "cell_type": "code",
   "execution_count": 136,
   "metadata": {},
   "outputs": [],
   "source": [
    "import os\n",
    "deploy_dir = \"./deploy\"\n",
    "os.makedirs(deploy_dir, exist_ok=True)"
   ]
  },
  {
   "cell_type": "code",
   "execution_count": 137,
   "metadata": {},
   "outputs": [
    {
     "name": "stdout",
     "output_type": "stream",
     "text": [
      "Writing ./deploy/sample-request.json\n"
     ]
    }
   ],
   "source": [
    "%%writefile {deploy_dir}/sample-request.json\n",
    "{\n",
    "  \"data\": [\n",
    "    {\n",
    "      \"sepal_length\": 6.7,\n",
    "      \"sepal_width\": 3.1,\n",
    "      \"petal_length\": 4.7,\n",
    "      \"petal_width\": 1.5\n",
    "    }\n",
    "  ]\n",
    "}"
   ]
  },
  {
   "cell_type": "code",
   "execution_count": 138,
   "metadata": {},
   "outputs": [
    {
     "data": {
      "text/plain": [
       "'\"[{\\\\\"predict\\\\\":\\\\\"versicolor\\\\\",\\\\\"setosa\\\\\":0.001944083,\\\\\"versicolor\\\\\":0.9898267126,\\\\\"virginica\\\\\":0.0082292044}]\"'"
      ]
     },
     "execution_count": 138,
     "metadata": {},
     "output_type": "execute_result"
    }
   ],
   "source": [
    "# test the blue deployment with some sample data\n",
    "ml_client.online_endpoints.invoke(\n",
    "    endpoint_name=\"shafi1\",\n",
    "    request_file=\"./deploy/sample-request.json\",\n",
    "    deployment_name=\"blue\",\n",
    ")"
   ]
  },
  {
   "cell_type": "code",
   "execution_count": 148,
   "metadata": {},
   "outputs": [
    {
     "name": "stdout",
     "output_type": "stream",
     "text": [
      "b'\"[{\\\\\"predict\\\\\":\\\\\"versicolor\\\\\",\\\\\"setosa\\\\\":0.001944083,\\\\\"versicolor\\\\\":0.9898267126,\\\\\"virginica\\\\\":0.0082292044}]\"'\n"
     ]
    }
   ],
   "source": [
    "import urllib.request\n",
    "import json\n",
    "\n",
    "# Request data goes here\n",
    "# The example below assumes JSON formatting which may be updated\n",
    "# depending on the format your endpoint expects.\n",
    "# More information can be found here:\n",
    "# https://docs.microsoft.com/azure/machine-learning/how-to-deploy-advanced-entry-script\n",
    "data = {\n",
    "  \"data\": [\n",
    "    {\n",
    "      \"sepal_length\": 6.7,\n",
    "      \"sepal_width\": 3.1,\n",
    "      \"petal_length\": 4.7,\n",
    "      \"petal_width\": 1.5\n",
    "    }\n",
    "  ]\n",
    "}\n",
    "\n",
    "body = str.encode(json.dumps(data))\n",
    "\n",
    "url = 'https://shafi.centralindia.inference.ml.azure.com/score'\n",
    "# Replace this with the primary/secondary key, AMLToken, or Microsoft Entra ID token for the endpoint\n",
    "api_key = '2M7dtO0sbP2JbOIOJLDfT82y987ZNoMIiacVhDnC2U3oGHh2YOQuJQQJ99BFAAAAAAAAAAAAINFRAZMLP1oF'\n",
    "if not api_key:\n",
    "    raise Exception(\"A key should be provided to invoke the endpoint\")\n",
    "\n",
    "\n",
    "headers = {'Content-Type':'application/json', 'Accept': 'application/json', 'Authorization':('Bearer '+ api_key)}\n",
    "\n",
    "req = urllib.request.Request(url, body, headers)\n",
    "\n",
    "try:\n",
    "    response = urllib.request.urlopen(req)\n",
    "\n",
    "    result = response.read()\n",
    "    print(result)\n",
    "except urllib.error.HTTPError as error:\n",
    "    print(\"The request failed with status code: \" + str(error.code))\n",
    "\n",
    "    # Print the headers - they include the requert ID and the timestamp, which are useful for debugging the failure\n",
    "    print(error.info())\n",
    "    print(error.read().decode(\"utf8\", 'ignore'))"
   ]
  },
  {
   "cell_type": "code",
   "execution_count": 154,
   "metadata": {},
   "outputs": [],
   "source": [
    "from azure.ai.ml import MLClient, load_component\n",
    "\n",
    "register_model_component = load_component(source=\"./component/create_environment/create_environment_component.yaml\")\n"
   ]
  },
  {
   "cell_type": "code",
   "execution_count": 155,
   "metadata": {},
   "outputs": [
    {
     "data": {
      "text/plain": [
       "CommandComponent({'latest_version': None, 'intellectual_property': None, 'auto_increment_version': False, 'source': 'REMOTE.WORKSPACE.COMPONENT', 'is_anonymous': False, 'auto_delete_setting': None, 'name': 'create_environment', 'description': 'Creates or updates a reusable Azure ML Environment from a conda file.', 'tags': {}, 'properties': {}, 'print_as_yaml': False, 'id': '/subscriptions/6bd1f99e-e7cb-4226-b9d5-09433d793bda/resourceGroups/shafi1/providers/Microsoft.MachineLearningServices/workspaces/shafi1/components/create_environment/versions/1', 'Resource__source_path': None, 'base_path': '/Users/mdshafiuddin/Desktop/testiat/mlopspoc', 'creation_context': <azure.ai.ml._restclient.v2024_01_01_preview.models._models_py3.SystemData object at 0x13f6072b0>, 'serialize': <msrest.serialization.Serializer object at 0x13f646250>, 'command': 'python create_environment_component.py  --environment_name ${{inputs.environment_name}} --conda_file ${{inputs.conda_file}} --created_env_name ${{outputs.created_env_name}} --created_env_version ${{outputs.created_env_version}}', 'code': '/subscriptions/6bd1f99e-e7cb-4226-b9d5-09433d793bda/resourceGroups/shafi1/providers/Microsoft.MachineLearningServices/workspaces/shafi1/codes/b889c110-43fe-4e92-83ea-fcf433468e3f/versions/1', 'environment_variables': None, 'environment': 'azureml://registries/azureml/environments/sklearn-1.1-ubuntu20.04-py38-cpu/versions/17', 'distribution': None, 'resources': {'instance_count': 1}, 'queue_settings': None, 'version': '1', 'schema': 'https://azuremlschemas.azureedge.net/latest/commandComponent.schema.json', 'type': 'command', 'display_name': 'Create or Update Environment', 'is_deterministic': True, 'inputs': {'conda_file': {'type': 'uri_file', 'description': 'Path to the conda.yaml file.', 'optional': False}, 'environment_name': {'type': 'string', 'description': 'The base name for the environment.', 'optional': False}}, 'outputs': {'created_env_name': {'type': 'uri_file'}, 'created_env_version': {'type': 'uri_file'}}, 'yaml_str': None, 'other_parameter': {}, 'additional_includes': []})"
      ]
     },
     "execution_count": 155,
     "metadata": {},
     "output_type": "execute_result"
    }
   ],
   "source": [
    "ml_client.components.create_or_update(register_model_component)"
   ]
  },
  {
   "cell_type": "code",
   "execution_count": 122,
   "metadata": {},
   "outputs": [
    {
     "name": "stdout",
     "output_type": "stream",
     "text": [
      "$schema: https://azuremlschemas.azureedge.net/latest/commandComponent.schema.json\n",
      "\n",
      "name: register_model\n",
      "display_name: Register Model\n",
      "description: Registers the updated model in Azure ML\n",
      "version: 16\n",
      "type: command\n",
      "\n",
      "inputs:\n",
      "  model_path:\n",
      "    type: string\n",
      "  model_name:\n",
      "    type: string\n",
      "\n",
      "outputs:\n",
      "  registered_model_name:\n",
      "    type: string\n",
      "  registered_model_version:\n",
      "    type: string\n",
      "\n",
      "code: .\n",
      "\n",
      "command: >\n",
      "  python register_model_component.py\n",
      "    --model_path ${{inputs.model_path}}\n",
      "    --model_name ${{inputs.model_name}}\n",
      "\n",
      "environment: azureml:h2o-env:3\n"
     ]
    }
   ],
   "source": [
    "with open(\"./component/register_model/register_model_component.yml\", \"r\") as f:\n",
    "    print(f.read())"
   ]
  },
  {
   "cell_type": "code",
   "execution_count": 156,
   "metadata": {},
   "outputs": [],
   "source": [
    "deploy_model_component = load_component(source=\"./component/deploy_model/deploy_model_component.yml\")\n"
   ]
  },
  {
   "cell_type": "code",
   "execution_count": 157,
   "metadata": {},
   "outputs": [
    {
     "data": {
      "text/plain": [
       "CommandComponent({'latest_version': None, 'intellectual_property': None, 'auto_increment_version': False, 'source': 'REMOTE.WORKSPACE.COMPONENT', 'is_anonymous': False, 'auto_delete_setting': None, 'name': 'deploy_model', 'description': 'Deploys the registered model to an existing online endpoint.', 'tags': {}, 'properties': {}, 'print_as_yaml': False, 'id': '/subscriptions/6bd1f99e-e7cb-4226-b9d5-09433d793bda/resourceGroups/shafi1/providers/Microsoft.MachineLearningServices/workspaces/shafi1/components/deploy_model/versions/41', 'Resource__source_path': None, 'base_path': '/Users/mdshafiuddin/Desktop/testiat/mlopspoc', 'creation_context': <azure.ai.ml._restclient.v2024_01_01_preview.models._models_py3.SystemData object at 0x13f607700>, 'serialize': <msrest.serialization.Serializer object at 0x13f6602b0>, 'command': 'python deploy_model_component.py --endpoint_name ${{inputs.endpoint_name}} --environment_name ${{inputs.environment_name}} --environment_version ${{inputs.environment_version}} --model_name ${{inputs.model_name}} --model_version ${{inputs.model_version}} --deployment_status ${{outputs.deployment_status}}', 'code': '/subscriptions/6bd1f99e-e7cb-4226-b9d5-09433d793bda/resourceGroups/shafi1/providers/Microsoft.MachineLearningServices/workspaces/shafi1/codes/40a1ebaa-a509-432c-939c-54c714dd7c07/versions/1', 'environment_variables': None, 'environment': '/subscriptions/6bd1f99e-e7cb-4226-b9d5-09433d793bda/resourceGroups/shafi1/providers/Microsoft.MachineLearningServices/workspaces/shafi1/environments/h2o-env/versions/3', 'distribution': None, 'resources': {'instance_count': 1}, 'queue_settings': None, 'version': '41', 'schema': 'https://azuremlschemas.azureedge.net/latest/commandComponent.schema.json', 'type': 'command', 'display_name': 'Deploy Model', 'is_deterministic': True, 'inputs': {'model_name': {'type': 'uri_file', 'optional': False}, 'model_version': {'type': 'uri_file', 'optional': False}, 'endpoint_name': {'type': 'string', 'optional': False}, 'environment_name': {'type': 'string', 'optional': False}, 'environment_version': {'type': 'string', 'optional': False}}, 'outputs': {'deployment_status': {'type': 'uri_file'}}, 'yaml_str': None, 'other_parameter': {}, 'additional_includes': []})"
      ]
     },
     "execution_count": 157,
     "metadata": {},
     "output_type": "execute_result"
    }
   ],
   "source": [
    "ml_client.components.create_or_update(deploy_model_component)"
   ]
  },
  {
   "cell_type": "code",
   "execution_count": 125,
   "metadata": {},
   "outputs": [
    {
     "name": "stdout",
     "output_type": "stream",
     "text": [
      "✅ Authenticated, got token expiring at 1749583344\n"
     ]
    }
   ],
   "source": [
    "from azure.identity import DefaultAzureCredential\n",
    "credential = DefaultAzureCredential()\n",
    "token = credential.get_token(\"https://management.azure.com/.default\")\n",
    "print(\"✅ Authenticated, got token expiring at\", token.expires_on)\n"
   ]
  },
  {
   "cell_type": "code",
   "execution_count": 126,
   "metadata": {},
   "outputs": [],
   "source": [
    "from azure.ai.ml.entities import ManagedOnlineEndpoint\n",
    "\n",
    "def ensure_endpoint_exists(ml_client, endpoint_name):\n",
    "    try:\n",
    "        ml_client.online_endpoints.get(name=endpoint_name)\n",
    "        print(f\"✅ Endpoint '{endpoint_name}' already exists\")\n",
    "    except Exception:\n",
    "        print(f\"➕ Creating endpoint '{endpoint_name}'\")\n",
    "        ep = ManagedOnlineEndpoint(name=endpoint_name, auth_mode=\"key\", description=\"CI/CD endpoint\")\n",
    "        ml_client.begin_create_or_update(ep).result()\n",
    "        print(f\"✅ Endpoint '{endpoint_name}' created successfully\")\n"
   ]
  },
  {
   "cell_type": "code",
   "execution_count": 129,
   "metadata": {},
   "outputs": [
    {
     "name": "stdout",
     "output_type": "stream",
     "text": [
      "➕ Creating endpoint 'shafi1'\n",
      "✅ Endpoint 'shafi1' created successfully\n"
     ]
    }
   ],
   "source": [
    "ensure_endpoint_exists(ml_client, \"shafi1\")"
   ]
  },
  {
   "cell_type": "code",
   "execution_count": 130,
   "metadata": {},
   "outputs": [
    {
     "name": "stdout",
     "output_type": "stream",
     "text": [
      "✅ Auth OK, expires: 1749583343\n"
     ]
    }
   ],
   "source": [
    "from azure.identity import DefaultAzureCredential\n",
    "token = DefaultAzureCredential().get_token(\"https://management.azure.com/.default\")\n",
    "print(\"✅ Auth OK, expires:\", token.expires_on)\n"
   ]
  },
  {
   "cell_type": "code",
   "execution_count": 131,
   "metadata": {},
   "outputs": [
    {
     "ename": "AttributeError",
     "evalue": "'OnlineEndpointOperations' object has no attribute 'get_credentials'",
     "output_type": "error",
     "traceback": [
      "\u001b[0;31m---------------------------------------------------------------------------\u001b[0m",
      "\u001b[0;31mAttributeError\u001b[0m                            Traceback (most recent call last)",
      "Cell \u001b[0;32mIn[131], line 1\u001b[0m\n\u001b[0;32m----> 1\u001b[0m creds \u001b[38;5;241m=\u001b[39m \u001b[43mml_client\u001b[49m\u001b[38;5;241;43m.\u001b[39;49m\u001b[43monline_endpoints\u001b[49m\u001b[38;5;241;43m.\u001b[39;49m\u001b[43mget_credentials\u001b[49m(name\u001b[38;5;241m=\u001b[39m\u001b[38;5;124m\"\u001b[39m\u001b[38;5;124mshafi1\u001b[39m\u001b[38;5;124m\"\u001b[39m)\n\u001b[1;32m      2\u001b[0m \u001b[38;5;28mprint\u001b[39m(\u001b[38;5;124m\"\u001b[39m\u001b[38;5;124mPrimary Key:\u001b[39m\u001b[38;5;124m\"\u001b[39m, creds\u001b[38;5;241m.\u001b[39mprimary_key)\n\u001b[1;32m      3\u001b[0m \u001b[38;5;28mprint\u001b[39m(\u001b[38;5;124m\"\u001b[39m\u001b[38;5;124mSecondary Key:\u001b[39m\u001b[38;5;124m\"\u001b[39m, creds\u001b[38;5;241m.\u001b[39msecondary_key)\n",
      "\u001b[0;31mAttributeError\u001b[0m: 'OnlineEndpointOperations' object has no attribute 'get_credentials'"
     ]
    }
   ],
   "source": [
    "creds = ml_client.online_endpoints.get_credentials(name=\"shafi1\")\n",
    "print(\"Primary Key:\", creds.primary_key)\n",
    "print(\"Secondary Key:\", creds.secondary_key)"
   ]
  },
  {
   "cell_type": "code",
   "execution_count": 133,
   "metadata": {},
   "outputs": [
    {
     "name": "stderr",
     "output_type": "stream",
     "text": [
      "Overriding of current TracerProvider is not allowed\n",
      "Overriding of current LoggerProvider is not allowed\n",
      "Overriding of current MeterProvider is not allowed\n",
      "Attempting to instrument while already instrumented\n",
      "Attempting to instrument while already instrumented\n",
      "Attempting to instrument while already instrumented\n"
     ]
    },
    {
     "name": "stdout",
     "output_type": "stream",
     "text": [
      "✅ DefaultAzureCredential acquired token, expires at: 1749618688\n",
      "🎉 MLClient initialized and connected to workspace: shafi1\n"
     ]
    }
   ],
   "source": [
    "from azure.identity import DefaultAzureCredential, InteractiveBrowserCredential\n",
    "from azure.ai.ml import MLClient\n",
    "\n",
    "# Try DefaultAzureCredential first (supports MI, SP, CLI)\n",
    "try:\n",
    "    credential = DefaultAzureCredential()\n",
    "    token = credential.get_token(\"https://management.azure.com/.default\")\n",
    "    print(\"✅ DefaultAzureCredential acquired token, expires at:\", token.expires_on)\n",
    "except Exception:\n",
    "    print(\"⚠️ DefaultAzureCredential failed—falling back to browser authentication\")\n",
    "    credential = InteractiveBrowserCredential()\n",
    "    token = credential.get_token(\"https://management.azure.com/.default\")\n",
    "    print(\"✅ InteractiveBrowserCredential acquired token, expires at:\", token.expires_on)\n",
    "\n",
    "# Initialize MLClient and confirm connection\n",
    "ml_client = MLClient(\n",
    "    credential=credential,\n",
    "    subscription_id=\"6bd1f99e-e7cb-4226-b9d5-09433d793bda\",\n",
    "    resource_group_name=\"shafi1\",\n",
    "    workspace_name=\"shafi1\",\n",
    ")\n",
    "print(\"🎉 MLClient initialized and connected to workspace:\", ml_client.workspace_name)\n"
   ]
  },
  {
   "cell_type": "code",
   "execution_count": 160,
   "metadata": {},
   "outputs": [],
   "source": [
    "def get_ml_client():\n",
    "    \"\"\"Authenticates and returns an MLClient.\"\"\"\n",
    "    try:\n",
    "        credential = DefaultAzureCredential()\n",
    "        credential.get_token(\"https://management.azure.com/.default\")\n",
    "    except Exception:\n",
    "        credential = InteractiveBrowserCredential()\n",
    "    \n",
    "    # You should ideally pass these as parameters or use environment variables\n",
    "    return MLClient(\n",
    "        credential=credential,\n",
    "        subscription_id=\"6bd1f99e-e7cb-4226-b9d5-09433d793bda\",\n",
    "        resource_group_name=\"shafi1\",\n",
    "        workspace_name=\"shafi1\"\n",
    "    )"
   ]
  },
  {
   "cell_type": "code",
   "execution_count": 161,
   "metadata": {},
   "outputs": [
    {
     "name": "stderr",
     "output_type": "stream",
     "text": [
      "Overriding of current TracerProvider is not allowed\n",
      "Overriding of current LoggerProvider is not allowed\n",
      "Overriding of current MeterProvider is not allowed\n",
      "Attempting to instrument while already instrumented\n",
      "Attempting to instrument while already instrumented\n",
      "Attempting to instrument while already instrumented\n"
     ]
    }
   ],
   "source": [
    "ml_client = get_ml_client()"
   ]
  },
  {
   "cell_type": "code",
   "execution_count": 1,
   "metadata": {},
   "outputs": [
    {
     "name": "stdout",
     "output_type": "stream",
     "text": [
      "Checking whether there is an H2O instance running at http://localhost:54321..... not found.\n",
      "Attempting to start a local H2O server...\n",
      "  Java Version: openjdk version \"23.0.2\" 2025-01-21; OpenJDK Runtime Environment Homebrew (build 23.0.2); OpenJDK 64-Bit Server VM Homebrew (build 23.0.2, mixed mode, sharing)\n",
      "  Starting server from /Users/mdshafiuddin/miniconda3/envs/h2o-mojo-env-v1/lib/python3.9/site-packages/h2o/backend/bin/h2o.jar\n",
      "  Ice root: /var/folders/dg/qkmn114n5zz8qhyh_ywt8cph0000gp/T/tmp_1lgtu_v\n",
      "  JVM stdout: /var/folders/dg/qkmn114n5zz8qhyh_ywt8cph0000gp/T/tmp_1lgtu_v/h2o_mdshafiuddin_started_from_python.out\n",
      "  JVM stderr: /var/folders/dg/qkmn114n5zz8qhyh_ywt8cph0000gp/T/tmp_1lgtu_v/h2o_mdshafiuddin_started_from_python.err\n",
      "  Server is running at http://127.0.0.1:54321\n",
      "Connecting to H2O server at http://127.0.0.1:54321 ... successful.\n",
      "Warning: Your H2O cluster version is (2 years, 4 months and 4 days) old.  There may be a newer version available.\n",
      "Please download and install the latest version from: https://h2o-release.s3.amazonaws.com/h2o/latest_stable.html\n"
     ]
    },
    {
     "data": {
      "text/html": [
       "\n",
       "<style>\n",
       "\n",
       "#h2o-table-1.h2o-container {\n",
       "  overflow-x: auto;\n",
       "}\n",
       "#h2o-table-1 .h2o-table {\n",
       "  /* width: 100%; */\n",
       "  margin-top: 1em;\n",
       "  margin-bottom: 1em;\n",
       "}\n",
       "#h2o-table-1 .h2o-table caption {\n",
       "  white-space: nowrap;\n",
       "  caption-side: top;\n",
       "  text-align: left;\n",
       "  /* margin-left: 1em; */\n",
       "  margin: 0;\n",
       "  font-size: larger;\n",
       "}\n",
       "#h2o-table-1 .h2o-table thead {\n",
       "  white-space: nowrap; \n",
       "  position: sticky;\n",
       "  top: 0;\n",
       "  box-shadow: 0 -1px inset;\n",
       "}\n",
       "#h2o-table-1 .h2o-table tbody {\n",
       "  overflow: auto;\n",
       "}\n",
       "#h2o-table-1 .h2o-table th,\n",
       "#h2o-table-1 .h2o-table td {\n",
       "  text-align: right;\n",
       "  /* border: 1px solid; */\n",
       "}\n",
       "#h2o-table-1 .h2o-table tr:nth-child(even) {\n",
       "  /* background: #F5F5F5 */\n",
       "}\n",
       "\n",
       "</style>      \n",
       "<div id=\"h2o-table-1\" class=\"h2o-container\">\n",
       "  <table class=\"h2o-table\">\n",
       "    <caption></caption>\n",
       "    <thead></thead>\n",
       "    <tbody><tr><td>H2O_cluster_uptime:</td>\n",
       "<td>01 secs</td></tr>\n",
       "<tr><td>H2O_cluster_timezone:</td>\n",
       "<td>Asia/Kolkata</td></tr>\n",
       "<tr><td>H2O_data_parsing_timezone:</td>\n",
       "<td>UTC</td></tr>\n",
       "<tr><td>H2O_cluster_version:</td>\n",
       "<td>3.40.0.1</td></tr>\n",
       "<tr><td>H2O_cluster_version_age:</td>\n",
       "<td>2 years, 4 months and 4 days</td></tr>\n",
       "<tr><td>H2O_cluster_name:</td>\n",
       "<td>H2O_from_python_mdshafiuddin_qae39y</td></tr>\n",
       "<tr><td>H2O_cluster_total_nodes:</td>\n",
       "<td>1</td></tr>\n",
       "<tr><td>H2O_cluster_free_memory:</td>\n",
       "<td>4.500 Gb</td></tr>\n",
       "<tr><td>H2O_cluster_total_cores:</td>\n",
       "<td>12</td></tr>\n",
       "<tr><td>H2O_cluster_allowed_cores:</td>\n",
       "<td>12</td></tr>\n",
       "<tr><td>H2O_cluster_status:</td>\n",
       "<td>locked, healthy</td></tr>\n",
       "<tr><td>H2O_connection_url:</td>\n",
       "<td>http://127.0.0.1:54321</td></tr>\n",
       "<tr><td>H2O_connection_proxy:</td>\n",
       "<td>{\"http\": null, \"https\": null}</td></tr>\n",
       "<tr><td>H2O_internal_security:</td>\n",
       "<td>False</td></tr>\n",
       "<tr><td>Python_version:</td>\n",
       "<td>3.9.23 final</td></tr></tbody>\n",
       "  </table>\n",
       "</div>\n"
      ],
      "text/plain": [
       "--------------------------  -----------------------------------\n",
       "H2O_cluster_uptime:         01 secs\n",
       "H2O_cluster_timezone:       Asia/Kolkata\n",
       "H2O_data_parsing_timezone:  UTC\n",
       "H2O_cluster_version:        3.40.0.1\n",
       "H2O_cluster_version_age:    2 years, 4 months and 4 days\n",
       "H2O_cluster_name:           H2O_from_python_mdshafiuddin_qae39y\n",
       "H2O_cluster_total_nodes:    1\n",
       "H2O_cluster_free_memory:    4.500 Gb\n",
       "H2O_cluster_total_cores:    12\n",
       "H2O_cluster_allowed_cores:  12\n",
       "H2O_cluster_status:         locked, healthy\n",
       "H2O_connection_url:         http://127.0.0.1:54321\n",
       "H2O_connection_proxy:       {\"http\": null, \"https\": null}\n",
       "H2O_internal_security:      False\n",
       "Python_version:             3.9.23 final\n",
       "--------------------------  -----------------------------------"
      ]
     },
     "metadata": {},
     "output_type": "display_data"
    },
    {
     "name": "stdout",
     "output_type": "stream",
     "text": [
      "Parse progress: |████████████████████████████████████████████████████████████████| (done) 100%\n",
      "gbm Model Build progress: |██████████████████████████████████████████████████████| (done) 100%\n",
      "gbm prediction progress: |███████████████████████████████████████████████████████| (done) 100%\n",
      "Sample Predictions:\n",
      "  predict\n",
      "  4.83635\n",
      "  4.83635\n",
      "  5.18013\n",
      "  5.12249\n",
      "  5.17126\n",
      "  5.29605\n",
      "  4.89153\n",
      "  5.39518\n",
      "  5.1054\n",
      "  4.78155\n",
      "[10 rows x 1 column]\n",
      "\n",
      "\n",
      "Model Performance on Test Set:\n",
      "R-squared: 0.7800\n",
      "MSE: 0.1123\n",
      "RMSE: 0.3350\n"
     ]
    }
   ],
   "source": [
    "# Step 1: Install H2O (uncomment if not already installed)\n",
    "# !pip install h2o\n",
    "\n",
    "# Step 2: Import required libraries\n",
    "import h2o\n",
    "from h2o.estimators.gbm import H2OGradientBoostingEstimator\n",
    "\n",
    "# Step 3: Initialize H2O\n",
    "h2o.init()\n",
    "\n",
    "# Step 4: Load the Iris dataset (comes built-in with H2O)\n",
    "iris = h2o.import_file(\"https://raw.githubusercontent.com/mwaskom/seaborn-data/master/iris.csv\")\n",
    "\n",
    "# Step 5: Define target and features\n",
    "target = \"sepal_length\"\n",
    "features = iris.columns\n",
    "features.remove(target)\n",
    "\n",
    "# Step 6: Split data into train and test sets\n",
    "train, test = iris.split_frame(ratios=[0.8], seed=1234)\n",
    "\n",
    "# Step 7: Train the GBM regression model\n",
    " # Train Gradient Boosting Model\n",
    "model = H2OGradientBoostingEstimator(ntrees=50, max_depth=5, learn_rate=0.1)\n",
    "model.train(x=features, y=target, training_frame=train)\n",
    "\n",
    "\n",
    "# Step 8: Make predictions on test set\n",
    "predictions = model.predict(test)\n",
    "\n",
    "# Step 9: Display sample predictions\n",
    "print(\"Sample Predictions:\")\n",
    "print(predictions.head())\n",
    "\n",
    "# Step 10: Evaluate model performance\n",
    "performance = model.model_performance(test_data=test)\n",
    "print(\"\\nModel Performance on Test Set:\")\n",
    "print(f\"R-squared: {performance.r2():.4f}\")\n",
    "print(f\"MSE: {performance.mse():.4f}\")\n",
    "print(f\"RMSE: {performance.rmse():.4f}\")\n",
    "\n",
    "# Step 11: Shut down H2O (optional)\n",
    "# h2o.shutdown(prompt=False)\n"
   ]
  },
  {
   "cell_type": "code",
   "execution_count": 7,
   "metadata": {},
   "outputs": [
    {
     "name": "stdout",
     "output_type": "stream",
     "text": [
      "MOJO model saved to: /Users/mdshafiuddin/Desktop/testiat/mlopspoc/GBM_model_python_1749740346516_1.zip\n"
     ]
    }
   ],
   "source": [
    "\n",
    "    \n",
    "    # Export MOJO model\n",
    "mojo_path = model.download_mojo(path=\".\", get_genmodel_jar=True)\n",
    "print(f\"MOJO model saved to: {mojo_path}\")"
   ]
  }
 ],
 "metadata": {
  "kernelspec": {
   "display_name": "h2o-mojo-env-v1",
   "language": "python",
   "name": "python3"
  },
  "language_info": {
   "codemirror_mode": {
    "name": "ipython",
    "version": 3
   },
   "file_extension": ".py",
   "mimetype": "text/x-python",
   "name": "python",
   "nbconvert_exporter": "python",
   "pygments_lexer": "ipython3",
   "version": "3.9.23"
  },
  "microsoft": {
   "ms_spell_check": {
    "ms_spell_check_language": "en"
   }
  },
  "nteract": {
   "version": "nteract-front-end@1.0.0"
  }
 },
 "nbformat": 4,
 "nbformat_minor": 2
}
